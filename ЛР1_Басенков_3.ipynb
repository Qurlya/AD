{
 "cells": [
  {
   "cell_type": "markdown",
   "metadata": {
    "id": "bri_pAriNFqN"
   },
   "source": [
    "**Цель работы:**\n",
    "\n",
    "Осуществить предварительную обработку данных csv-файла, выявить и устранить проблемы в этих данных."
   ]
  },
  {
   "cell_type": "markdown",
   "metadata": {
    "id": "r_e-GeJmgZ8l"
   },
   "source": [
    "# Загрузка набора данных"
   ]
  },
  {
   "cell_type": "markdown",
   "metadata": {
    "id": "eeq9ZAbSguQS"
   },
   "source": [
    "### Описание предметной области"
   ]
  },
  {
   "cell_type": "markdown",
   "metadata": {
    "id": "XHbH8zNIg0Ib"
   },
   "source": [
    "Вариант №:3\n",
    "\n",
    "Набор данных: salary.csv\n",
    " \n",
    "Атрибуты:\n",
    "1.\tГод выплаты заработной платы (целое число)\n",
    "2.\tТип работы (PT - Part-time, FT - Full-time, FL - Freelance)\n",
    "3.\tДолжность\n",
    "4.\tЗарплата за год (целое число)\n",
    "5.\tЗарплата в долларах (целое число)\n",
    "6.\tСтрана проживания\n",
    "7.\tСтрана главного офиса\n",
    "8.\tСреднее кол-во людей в компании (S  менее 50\n",
    "сотрудников (малая), M от 50 до 250 сотрудников (средняя), L - более 250 сотрудников (крупная)) \n"
   ]
  },
  {
   "cell_type": "markdown",
   "metadata": {
    "id": "Lwin9ia7hT1i"
   },
   "source": [
    "### 1.Чтение файла (набора данных)"
   ]
  },
  {
   "cell_type": "markdown",
   "metadata": {
    "id": "eAYzXaLrh-qh"
   },
   "source": [
    "Загружен датасет из файла salary.csv с разделителем \";\"."
   ]
  },
  {
   "cell_type": "code",
   "execution_count": 18,
   "metadata": {
    "id": "a5dYQO5YhOYa"
   },
   "outputs": [],
   "source": [
    "import pandas as pd\n",
    "df = pd.read_csv('salary.csv', sep=';')"
   ]
  },
  {
   "cell_type": "markdown",
   "metadata": {
    "id": "p82p53SvhjLN"
   },
   "source": [
    "### 2. Обзор данных"
   ]
  },
  {
   "cell_type": "markdown",
   "metadata": {
    "id": "eAYzXaLrh-qh"
   },
   "source": [
    "2.1 Вывод первых 20 строк с помощью метода head."
   ]
  },
  {
   "cell_type": "code",
   "execution_count": 19,
   "metadata": {
    "id": "7yMo3VZ_hotx",
    "scrolled": true
   },
   "outputs": [
    {
     "data": {
      "text/html": [
       "<div>\n",
       "<style scoped>\n",
       "    .dataframe tbody tr th:only-of-type {\n",
       "        vertical-align: middle;\n",
       "    }\n",
       "\n",
       "    .dataframe tbody tr th {\n",
       "        vertical-align: top;\n",
       "    }\n",
       "\n",
       "    .dataframe thead th {\n",
       "        text-align: right;\n",
       "    }\n",
       "</style>\n",
       "<table border=\"1\" class=\"dataframe\">\n",
       "  <thead>\n",
       "    <tr style=\"text-align: right;\">\n",
       "      <th></th>\n",
       "      <th>work_year</th>\n",
       "      <th>employment_type</th>\n",
       "      <th>job_title</th>\n",
       "      <th>salary</th>\n",
       "      <th>salary_in_usd</th>\n",
       "      <th>employee_residence</th>\n",
       "      <th>company_location</th>\n",
       "      <th>company_size</th>\n",
       "    </tr>\n",
       "  </thead>\n",
       "  <tbody>\n",
       "    <tr>\n",
       "      <th>0</th>\n",
       "      <td>2020.0</td>\n",
       "      <td>FT</td>\n",
       "      <td>Data SCIENTIST</td>\n",
       "      <td>70000.0</td>\n",
       "      <td>79833.0</td>\n",
       "      <td>DE</td>\n",
       "      <td>DE</td>\n",
       "      <td>L</td>\n",
       "    </tr>\n",
       "    <tr>\n",
       "      <th>1</th>\n",
       "      <td>2020.0</td>\n",
       "      <td>FT</td>\n",
       "      <td>Product Data Analyst</td>\n",
       "      <td>20000.0</td>\n",
       "      <td>20000.0</td>\n",
       "      <td>HN</td>\n",
       "      <td>HN</td>\n",
       "      <td>S</td>\n",
       "    </tr>\n",
       "    <tr>\n",
       "      <th>2</th>\n",
       "      <td>2020.0</td>\n",
       "      <td>FT</td>\n",
       "      <td>Data Analyst</td>\n",
       "      <td>72000.0</td>\n",
       "      <td>72000.0</td>\n",
       "      <td>US</td>\n",
       "      <td>US</td>\n",
       "      <td>L</td>\n",
       "    </tr>\n",
       "    <tr>\n",
       "      <th>3</th>\n",
       "      <td>2020.0</td>\n",
       "      <td>FT</td>\n",
       "      <td>Data Scientist</td>\n",
       "      <td>11000000.0</td>\n",
       "      <td>35735.0</td>\n",
       "      <td>HU</td>\n",
       "      <td>HU</td>\n",
       "      <td>L</td>\n",
       "    </tr>\n",
       "    <tr>\n",
       "      <th>4</th>\n",
       "      <td>2020.0</td>\n",
       "      <td>FT</td>\n",
       "      <td>Data Scientist</td>\n",
       "      <td>45000.0</td>\n",
       "      <td>51321.0</td>\n",
       "      <td>FR</td>\n",
       "      <td>FR</td>\n",
       "      <td>S</td>\n",
       "    </tr>\n",
       "    <tr>\n",
       "      <th>5</th>\n",
       "      <td>2020.0</td>\n",
       "      <td>FT</td>\n",
       "      <td>Data Scientist</td>\n",
       "      <td>3000000.0</td>\n",
       "      <td>40481.0</td>\n",
       "      <td>IN</td>\n",
       "      <td>IN</td>\n",
       "      <td>L</td>\n",
       "    </tr>\n",
       "    <tr>\n",
       "      <th>6</th>\n",
       "      <td>2020.0</td>\n",
       "      <td>FT</td>\n",
       "      <td>Data Scientist</td>\n",
       "      <td>35000.0</td>\n",
       "      <td>39916.0</td>\n",
       "      <td>FR</td>\n",
       "      <td>FR</td>\n",
       "      <td>M</td>\n",
       "    </tr>\n",
       "    <tr>\n",
       "      <th>7</th>\n",
       "      <td>2020.0</td>\n",
       "      <td>FT</td>\n",
       "      <td>Data Analyst</td>\n",
       "      <td>85000.0</td>\n",
       "      <td>85000.0</td>\n",
       "      <td>US</td>\n",
       "      <td>US</td>\n",
       "      <td>L</td>\n",
       "    </tr>\n",
       "    <tr>\n",
       "      <th>8</th>\n",
       "      <td>2020.0</td>\n",
       "      <td>FT</td>\n",
       "      <td>Data Analyst</td>\n",
       "      <td>8000.0</td>\n",
       "      <td>8000.0</td>\n",
       "      <td>PK</td>\n",
       "      <td>PK</td>\n",
       "      <td>Large</td>\n",
       "    </tr>\n",
       "    <tr>\n",
       "      <th>9</th>\n",
       "      <td>2020.0</td>\n",
       "      <td>FT</td>\n",
       "      <td>Data Engineer</td>\n",
       "      <td>4450000.0</td>\n",
       "      <td>41689.0</td>\n",
       "      <td>JP</td>\n",
       "      <td>JP</td>\n",
       "      <td>S</td>\n",
       "    </tr>\n",
       "    <tr>\n",
       "      <th>10</th>\n",
       "      <td>2020.0</td>\n",
       "      <td>FT</td>\n",
       "      <td>Product Data Analyst</td>\n",
       "      <td>450000.0</td>\n",
       "      <td>6072.0</td>\n",
       "      <td>IN</td>\n",
       "      <td>IN</td>\n",
       "      <td>L</td>\n",
       "    </tr>\n",
       "    <tr>\n",
       "      <th>11</th>\n",
       "      <td>2020.0</td>\n",
       "      <td>FT</td>\n",
       "      <td>Data Engineer</td>\n",
       "      <td>42000.0</td>\n",
       "      <td>47899.0</td>\n",
       "      <td>GR</td>\n",
       "      <td>GR</td>\n",
       "      <td>L</td>\n",
       "    </tr>\n",
       "    <tr>\n",
       "      <th>12</th>\n",
       "      <td>2020.0</td>\n",
       "      <td>FT</td>\n",
       "      <td>Data Engineer</td>\n",
       "      <td>720000.0</td>\n",
       "      <td>33511.0</td>\n",
       "      <td>MX</td>\n",
       "      <td>MX</td>\n",
       "      <td>S</td>\n",
       "    </tr>\n",
       "    <tr>\n",
       "      <th>13</th>\n",
       "      <td>2020.0</td>\n",
       "      <td>FT</td>\n",
       "      <td>Machine Learning Manager</td>\n",
       "      <td>157000.0</td>\n",
       "      <td>117104.0</td>\n",
       "      <td>CA</td>\n",
       "      <td>CA</td>\n",
       "      <td>L</td>\n",
       "    </tr>\n",
       "    <tr>\n",
       "      <th>14</th>\n",
       "      <td>2020.0</td>\n",
       "      <td>FT</td>\n",
       "      <td>Data Scientist</td>\n",
       "      <td>60000.0</td>\n",
       "      <td>68428.0</td>\n",
       "      <td>GR</td>\n",
       "      <td>US</td>\n",
       "      <td>L</td>\n",
       "    </tr>\n",
       "    <tr>\n",
       "      <th>15</th>\n",
       "      <td>2020.0</td>\n",
       "      <td>FT</td>\n",
       "      <td>Data Analyst</td>\n",
       "      <td>41000.0</td>\n",
       "      <td>46759.0</td>\n",
       "      <td>FR</td>\n",
       "      <td>FR</td>\n",
       "      <td>L</td>\n",
       "    </tr>\n",
       "    <tr>\n",
       "      <th>16</th>\n",
       "      <td>2020.0</td>\n",
       "      <td>FT</td>\n",
       "      <td>Data Engineer</td>\n",
       "      <td>65000.0</td>\n",
       "      <td>74130.0</td>\n",
       "      <td>AT</td>\n",
       "      <td>AT</td>\n",
       "      <td>L</td>\n",
       "    </tr>\n",
       "    <tr>\n",
       "      <th>17</th>\n",
       "      <td>2020.0</td>\n",
       "      <td>FT</td>\n",
       "      <td>Data Analyst</td>\n",
       "      <td>10000.0</td>\n",
       "      <td>10000.0</td>\n",
       "      <td>NG</td>\n",
       "      <td>NG</td>\n",
       "      <td>S</td>\n",
       "    </tr>\n",
       "    <tr>\n",
       "      <th>18</th>\n",
       "      <td>2020.0</td>\n",
       "      <td>FT</td>\n",
       "      <td>Data Scientist</td>\n",
       "      <td>45760.0</td>\n",
       "      <td>45760.0</td>\n",
       "      <td>PH</td>\n",
       "      <td>US</td>\n",
       "      <td>S</td>\n",
       "    </tr>\n",
       "    <tr>\n",
       "      <th>19</th>\n",
       "      <td>2020.0</td>\n",
       "      <td>FT</td>\n",
       "      <td>Data Engineer</td>\n",
       "      <td>106000.0</td>\n",
       "      <td>106000.0</td>\n",
       "      <td>US</td>\n",
       "      <td>US</td>\n",
       "      <td>L</td>\n",
       "    </tr>\n",
       "  </tbody>\n",
       "</table>\n",
       "</div>"
      ],
      "text/plain": [
       "    work_year employment_type                 job_title      salary  \\\n",
       "0      2020.0              FT            Data SCIENTIST     70000.0   \n",
       "1      2020.0              FT      Product Data Analyst     20000.0   \n",
       "2      2020.0              FT              Data Analyst     72000.0   \n",
       "3      2020.0              FT            Data Scientist  11000000.0   \n",
       "4      2020.0              FT            Data Scientist     45000.0   \n",
       "5      2020.0              FT            Data Scientist   3000000.0   \n",
       "6      2020.0              FT            Data Scientist     35000.0   \n",
       "7      2020.0              FT              Data Analyst     85000.0   \n",
       "8      2020.0              FT              Data Analyst      8000.0   \n",
       "9      2020.0              FT             Data Engineer   4450000.0   \n",
       "10     2020.0              FT      Product Data Analyst    450000.0   \n",
       "11     2020.0              FT             Data Engineer     42000.0   \n",
       "12     2020.0              FT             Data Engineer    720000.0   \n",
       "13     2020.0              FT  Machine Learning Manager    157000.0   \n",
       "14     2020.0              FT            Data Scientist     60000.0   \n",
       "15     2020.0              FT              Data Analyst     41000.0   \n",
       "16     2020.0              FT             Data Engineer     65000.0   \n",
       "17     2020.0              FT              Data Analyst     10000.0   \n",
       "18     2020.0              FT            Data Scientist     45760.0   \n",
       "19     2020.0              FT             Data Engineer    106000.0   \n",
       "\n",
       "    salary_in_usd employee_residence company_location company_size  \n",
       "0         79833.0                 DE               DE            L  \n",
       "1         20000.0                 HN               HN            S  \n",
       "2         72000.0                 US               US            L  \n",
       "3         35735.0                 HU               HU            L  \n",
       "4         51321.0                 FR               FR            S  \n",
       "5         40481.0                 IN               IN            L  \n",
       "6         39916.0                 FR               FR            M  \n",
       "7         85000.0                 US               US            L  \n",
       "8          8000.0                 PK               PK        Large  \n",
       "9         41689.0                 JP               JP            S  \n",
       "10         6072.0                 IN               IN            L  \n",
       "11        47899.0                 GR               GR            L  \n",
       "12        33511.0                 MX               MX            S  \n",
       "13       117104.0                 CA               CA            L  \n",
       "14        68428.0                 GR               US            L  \n",
       "15        46759.0                 FR               FR            L  \n",
       "16        74130.0                 AT               AT            L  \n",
       "17        10000.0                 NG               NG            S  \n",
       "18        45760.0                 PH               US            S  \n",
       "19       106000.0                 US               US            L  "
      ]
     },
     "execution_count": 19,
     "metadata": {},
     "output_type": "execute_result"
    }
   ],
   "source": [
    "df.head(20)"
   ]
  },
  {
   "cell_type": "markdown",
   "metadata": {
    "id": "Ze-lXxLMhpWv"
   },
   "source": [
    "2.2 Оценка данных с помощью метода info."
   ]
  },
  {
   "cell_type": "code",
   "execution_count": 20,
   "metadata": {
    "id": "bjhngmaLiGM-",
    "scrolled": true
   },
   "outputs": [
    {
     "name": "stdout",
     "output_type": "stream",
     "text": [
      "<class 'pandas.core.frame.DataFrame'>\n",
      "RangeIndex: 401 entries, 0 to 400\n",
      "Data columns (total 8 columns):\n",
      " #   Column              Non-Null Count  Dtype  \n",
      "---  ------              --------------  -----  \n",
      " 0   work_year           401 non-null    float64\n",
      " 1   employment_type     401 non-null    object \n",
      " 2   job_title           401 non-null    object \n",
      " 3   salary              398 non-null    float64\n",
      " 4   salary_in_usd       401 non-null    float64\n",
      " 5   employee_residence  401 non-null    object \n",
      " 6   company_location    401 non-null    object \n",
      " 7   company_size        401 non-null    object \n",
      "dtypes: float64(3), object(5)\n",
      "memory usage: 25.2+ KB\n"
     ]
    }
   ],
   "source": [
    "df.info()"
   ]
  },
  {
   "cell_type": "markdown",
   "metadata": {
    "id": "06PDq9DAiMAY"
   },
   "source": [
    "2.3 Оценка данных с помощью метода describe."
   ]
  },
  {
   "cell_type": "code",
   "execution_count": 21,
   "metadata": {
    "id": "cTVFwzO1jQfN"
   },
   "outputs": [
    {
     "data": {
      "text/html": [
       "<div>\n",
       "<style scoped>\n",
       "    .dataframe tbody tr th:only-of-type {\n",
       "        vertical-align: middle;\n",
       "    }\n",
       "\n",
       "    .dataframe tbody tr th {\n",
       "        vertical-align: top;\n",
       "    }\n",
       "\n",
       "    .dataframe thead th {\n",
       "        text-align: right;\n",
       "    }\n",
       "</style>\n",
       "<table border=\"1\" class=\"dataframe\">\n",
       "  <thead>\n",
       "    <tr style=\"text-align: right;\">\n",
       "      <th></th>\n",
       "      <th>work_year</th>\n",
       "      <th>salary</th>\n",
       "      <th>salary_in_usd</th>\n",
       "    </tr>\n",
       "  </thead>\n",
       "  <tbody>\n",
       "    <tr>\n",
       "      <th>count</th>\n",
       "      <td>401.000000</td>\n",
       "      <td>3.980000e+02</td>\n",
       "      <td>401.000000</td>\n",
       "    </tr>\n",
       "    <tr>\n",
       "      <th>mean</th>\n",
       "      <td>2021.528678</td>\n",
       "      <td>2.888336e+05</td>\n",
       "      <td>105895.017456</td>\n",
       "    </tr>\n",
       "    <tr>\n",
       "      <th>std</th>\n",
       "      <td>0.678086</td>\n",
       "      <td>1.677081e+06</td>\n",
       "      <td>58183.664171</td>\n",
       "    </tr>\n",
       "    <tr>\n",
       "      <th>min</th>\n",
       "      <td>2020.000000</td>\n",
       "      <td>4.000000e+03</td>\n",
       "      <td>2859.000000</td>\n",
       "    </tr>\n",
       "    <tr>\n",
       "      <th>25%</th>\n",
       "      <td>2021.000000</td>\n",
       "      <td>6.700000e+04</td>\n",
       "      <td>65013.000000</td>\n",
       "    </tr>\n",
       "    <tr>\n",
       "      <th>50%</th>\n",
       "      <td>2022.000000</td>\n",
       "      <td>1.091400e+05</td>\n",
       "      <td>100000.000000</td>\n",
       "    </tr>\n",
       "    <tr>\n",
       "      <th>75%</th>\n",
       "      <td>2022.000000</td>\n",
       "      <td>1.500000e+05</td>\n",
       "      <td>140000.000000</td>\n",
       "    </tr>\n",
       "    <tr>\n",
       "      <th>max</th>\n",
       "      <td>2022.000000</td>\n",
       "      <td>3.040000e+07</td>\n",
       "      <td>412000.000000</td>\n",
       "    </tr>\n",
       "  </tbody>\n",
       "</table>\n",
       "</div>"
      ],
      "text/plain": [
       "         work_year        salary  salary_in_usd\n",
       "count   401.000000  3.980000e+02     401.000000\n",
       "mean   2021.528678  2.888336e+05  105895.017456\n",
       "std       0.678086  1.677081e+06   58183.664171\n",
       "min    2020.000000  4.000000e+03    2859.000000\n",
       "25%    2021.000000  6.700000e+04   65013.000000\n",
       "50%    2022.000000  1.091400e+05  100000.000000\n",
       "75%    2022.000000  1.500000e+05  140000.000000\n",
       "max    2022.000000  3.040000e+07  412000.000000"
      ]
     },
     "execution_count": 21,
     "metadata": {},
     "output_type": "execute_result"
    }
   ],
   "source": [
    "df.describe()"
   ]
  },
  {
   "cell_type": "markdown",
   "metadata": {
    "id": "oOZUrZGuiGqc"
   },
   "source": [
    "Выводы: каждый столбец является числовым и отображает результат применения статистических функций ко всем значениям соответствующего столбца исходной таблицы. В строке 'count' представлено количество непустых значений, в строке 'mean' - среднее арифметическое, в 'std' - стандартное отклонение, в 'min'/'max' - минимальное и максимальное значения, а в перцентилях (25%, 50%, 75%) - соответствующие квантили распределения данных."
   ]
  },
  {
   "cell_type": "markdown",
   "metadata": {
    "id": "JTbo0IGDiHxn"
   },
   "source": [
    " 2.4 Оценка названий столбцов"
   ]
  },
  {
   "cell_type": "code",
   "execution_count": 22,
   "metadata": {
    "id": "9NEyi2Odik3e"
   },
   "outputs": [
    {
     "name": "stdout",
     "output_type": "stream",
     "text": [
      "['work_year', 'employment_type', 'job_title', 'salary', 'salary_in_usd', 'employee_residence', 'company_location', 'company_size']\n"
     ]
    }
   ],
   "source": [
    "print(df.columns.tolist())"
   ]
  },
  {
   "cell_type": "markdown",
   "metadata": {
    "id": "V0tLQcyrjnA_"
   },
   "source": [
    "### 3. Проверка пропусков"
   ]
  },
  {
   "cell_type": "markdown",
   "metadata": {},
   "source": [
    "В соответствие с выполнением метода info() ранее, выявлено 3 строки, в которых поле 'salary' является пустым. Их следует удалить с помощью метода dropna()"
   ]
  },
  {
   "cell_type": "code",
   "execution_count": 23,
   "metadata": {
    "id": "xuTz-Avjj9AW"
   },
   "outputs": [
    {
     "name": "stdout",
     "output_type": "stream",
     "text": [
      "Удалено записей: 3\n"
     ]
    }
   ],
   "source": [
    "df.isnull().sum()\n",
    "df_cleaned = df.dropna(subset=['salary'])\n",
    "print(f\"Удалено записей: {len(df) - len(df_cleaned)}\")\n",
    "df = df_cleaned"
   ]
  },
  {
   "cell_type": "markdown",
   "metadata": {
    "id": "efZ7vgSVkPQH"
   },
   "source": [
    "\n",
    "---\n",
    "\n",
    "**Вы должны аргументировать на защите, почему были выполнены те или иные действия с пропусками, а также знать другие способы работы с пропусками, чтобы\n",
    " ответить на вопросы на защите.**\n",
    "\n",
    "\n",
    " ---"
   ]
  },
  {
   "cell_type": "markdown",
   "metadata": {
    "id": "kkyrXXHikEXk"
   },
   "source": [
    "### 4. Проверка дубликатов"
   ]
  },
  {
   "cell_type": "markdown",
   "metadata": {
    "id": "ImqHvr3okIQ6"
   },
   "source": [
    "#### Проверка явных дубликатов"
   ]
  },
  {
   "cell_type": "markdown",
   "metadata": {},
   "source": [
    "Для проверки явных дубликатов следует использовать стандартный метод duplicated() и просуммировать результирующую таблицу."
   ]
  },
  {
   "cell_type": "code",
   "execution_count": 31,
   "metadata": {
    "id": "ntArgvChkK26"
   },
   "outputs": [],
   "source": [
    "if duplicate_count > 0:\n",
    "    df = df.drop_duplicates()"
   ]
  },
  {
   "cell_type": "code",
   "execution_count": 32,
   "metadata": {
    "id": "qu1oh-e5lDZ1"
   },
   "outputs": [
    {
     "name": "stdout",
     "output_type": "stream",
     "text": [
      "0\n"
     ]
    }
   ],
   "source": [
    "duplicate_count = df.duplicated().sum()\n",
    "print(duplicate_count)\n"
   ]
  },
  {
   "cell_type": "markdown",
   "metadata": {},
   "source": [
    "Для проверки явных дубликатов следует использовать стандартный метод duplicated() и просуммировать результирующую таблицу."
   ]
  },
  {
   "cell_type": "markdown",
   "metadata": {
    "id": "VeHTMcOmkLSw"
   },
   "source": [
    "#### Проверка неявных дубликатов"
   ]
  },
  {
   "cell_type": "markdown",
   "metadata": {},
   "source": [
    "Выводим все уникальные значения столбцов для выявления похожих значений и соответствующего их удаления. С учетом информативного содержания, интересующими столбцами являются 'job_title' и 'company_size'"
   ]
  },
  {
   "cell_type": "code",
   "execution_count": 9,
   "metadata": {
    "id": "-uOPKHlVlGo8"
   },
   "outputs": [
    {
     "name": "stdout",
     "output_type": "stream",
     "text": [
      "job_title ['Data SCIENTIST' 'Product Data Analyst' 'Data Analyst' 'Data Scientist'\n",
      " 'Data Engineer' 'Machine Learning Manager' 'Data Analytics Engineer'\n",
      " 'Data Science Engineer' 'Machine Learning Developer'\n",
      " 'Data Analytics Manager' 'Head of Data Science'\n",
      " 'Head of Machine Learning' 'NLP Engineer' 'Data Analytics Lead'\n",
      " 'DataScientist' 'Data AnalyticsManager']\n",
      "company_size ['L' 'S' 'M' 'Large']\n"
     ]
    }
   ],
   "source": [
    "def display_implicit_duplicates(): \n",
    "    for col in df.columns:\n",
    "        if col == 'job_title' or col == 'company_size': \n",
    "            print(col, df[col].unique())\n",
    "\n",
    "display_implicit_duplicates()"
   ]
  },
  {
   "cell_type": "markdown",
   "metadata": {},
   "source": [
    "Теперь, произведём замену неявных дубликатов на соответствующие варианты. Также отобразим уникальные значения, чтобы проверить, что замена прошла корректно."
   ]
  },
  {
   "cell_type": "code",
   "execution_count": 10,
   "metadata": {
    "id": "89tMFEQ2k_M7"
   },
   "outputs": [
    {
     "name": "stdout",
     "output_type": "stream",
     "text": [
      "job_title ['Data Scientist' 'Product Data Analyst' 'Data Analyst' 'Data Engineer'\n",
      " 'Machine Learning Manager' 'Data Analytics Engineer'\n",
      " 'Data Science Engineer' 'Machine Learning Developer'\n",
      " 'Data Analytics Manager' 'Head of Data Science'\n",
      " 'Head of Machine Learning' 'NLP Engineer' 'Data Analytics Lead']\n",
      "company_size ['L' 'S' 'M']\n"
     ]
    },
    {
     "name": "stderr",
     "output_type": "stream",
     "text": [
      "/var/folders/6b/mtrg9ql91mxfr0qrtq79_x3w0000gn/T/ipykernel_6310/419017278.py:1: SettingWithCopyWarning: \n",
      "A value is trying to be set on a copy of a slice from a DataFrame.\n",
      "Try using .loc[row_indexer,col_indexer] = value instead\n",
      "\n",
      "See the caveats in the documentation: https://pandas.pydata.org/pandas-docs/stable/user_guide/indexing.html#returning-a-view-versus-a-copy\n",
      "  df['company_size'] = df['company_size'].replace('Large', 'L')\n",
      "/var/folders/6b/mtrg9ql91mxfr0qrtq79_x3w0000gn/T/ipykernel_6310/419017278.py:2: SettingWithCopyWarning: \n",
      "A value is trying to be set on a copy of a slice from a DataFrame.\n",
      "Try using .loc[row_indexer,col_indexer] = value instead\n",
      "\n",
      "See the caveats in the documentation: https://pandas.pydata.org/pandas-docs/stable/user_guide/indexing.html#returning-a-view-versus-a-copy\n",
      "  df['job_title'] = df['job_title'].replace(\n"
     ]
    }
   ],
   "source": [
    "df['company_size'] = df['company_size'].replace('Large', 'L')\n",
    "df['job_title'] = df['job_title'].replace('Data SCIENTIST', 'Data Scientist')\n",
    "    .replace('DataScientist', 'Data Scientist')\n",
    "        .replace('Data AnalyticsManager', 'Data Analytics Manager')\n",
    "\n",
    "display_implicit_duplicates()"
   ]
  },
  {
   "cell_type": "markdown",
   "metadata": {
    "id": "GMcnDpOmlKhU"
   },
   "source": [
    "---\n",
    "\n",
    "**Вы должны аргументировать на защите, почему были выполнены те или иные действия с дубликатами, знать, что такое явные и неявные дубликаты и способы работы с ними, чтобы ответить на вопросы на защите.**\n",
    "\n",
    "\n",
    " ---"
   ]
  },
  {
   "cell_type": "markdown",
   "metadata": {
    "id": "md9GhfYMlbi7"
   },
   "source": [
    "### 5. Провека типов данных"
   ]
  },
  {
   "cell_type": "code",
   "execution_count": 11,
   "metadata": {
    "id": "lXTroENaluCW"
   },
   "outputs": [
    {
     "name": "stdout",
     "output_type": "stream",
     "text": [
      "work_year             float64\n",
      "employment_type        object\n",
      "job_title              object\n",
      "salary                float64\n",
      "salary_in_usd         float64\n",
      "employee_residence     object\n",
      "company_location       object\n",
      "company_size           object\n",
      "dtype: object\n"
     ]
    }
   ],
   "source": [
    "print(df.dtypes)"
   ]
  },
  {
   "cell_type": "markdown",
   "metadata": {
    "id": "DPDBNN4dlx7W"
   },
   "source": [
    "---\n",
    "\n",
    "**Обратите внимание, что во всех вариантах необходимо сделать приведение типов. Будьте готовы на защите аргументировать проверку типов (почему выполнены те или иные преобразования).**\n",
    "\n",
    "\n",
    " ---"
   ]
  },
  {
   "cell_type": "code",
   "execution_count": null,
   "metadata": {},
   "outputs": [],
   "source": []
  },
  {
   "cell_type": "code",
   "execution_count": 12,
   "metadata": {
    "id": "WXhXgu29lop3"
   },
   "outputs": [
    {
     "name": "stderr",
     "output_type": "stream",
     "text": [
      "/var/folders/6b/mtrg9ql91mxfr0qrtq79_x3w0000gn/T/ipykernel_6310/177642152.py:1: SettingWithCopyWarning: \n",
      "A value is trying to be set on a copy of a slice from a DataFrame.\n",
      "Try using .loc[row_indexer,col_indexer] = value instead\n",
      "\n",
      "See the caveats in the documentation: https://pandas.pydata.org/pandas-docs/stable/user_guide/indexing.html#returning-a-view-versus-a-copy\n",
      "  df['work_year'] = df['work_year'].astype('int64')\n",
      "/var/folders/6b/mtrg9ql91mxfr0qrtq79_x3w0000gn/T/ipykernel_6310/177642152.py:2: SettingWithCopyWarning: \n",
      "A value is trying to be set on a copy of a slice from a DataFrame.\n",
      "Try using .loc[row_indexer,col_indexer] = value instead\n",
      "\n",
      "See the caveats in the documentation: https://pandas.pydata.org/pandas-docs/stable/user_guide/indexing.html#returning-a-view-versus-a-copy\n",
      "  df['employment_type'] = df['employment_type'].astype('category')\n",
      "/var/folders/6b/mtrg9ql91mxfr0qrtq79_x3w0000gn/T/ipykernel_6310/177642152.py:3: SettingWithCopyWarning: \n",
      "A value is trying to be set on a copy of a slice from a DataFrame.\n",
      "Try using .loc[row_indexer,col_indexer] = value instead\n",
      "\n",
      "See the caveats in the documentation: https://pandas.pydata.org/pandas-docs/stable/user_guide/indexing.html#returning-a-view-versus-a-copy\n",
      "  df['salary'] = df['salary'].astype('int64')\n",
      "/var/folders/6b/mtrg9ql91mxfr0qrtq79_x3w0000gn/T/ipykernel_6310/177642152.py:4: SettingWithCopyWarning: \n",
      "A value is trying to be set on a copy of a slice from a DataFrame.\n",
      "Try using .loc[row_indexer,col_indexer] = value instead\n",
      "\n",
      "See the caveats in the documentation: https://pandas.pydata.org/pandas-docs/stable/user_guide/indexing.html#returning-a-view-versus-a-copy\n",
      "  df['salary_in_usd'] = df['salary_in_usd'].astype('int64')\n"
     ]
    }
   ],
   "source": [
    "df['work_year'] = df['work_year'].astype('int64')\n",
    "df['salary'] = df['salary'].astype('int64')\n",
    "df['salary_in_usd'] = df['salary_in_usd'].astype('int64')"
   ]
  },
  {
   "cell_type": "markdown",
   "metadata": {},
   "source": [
    "Для приведения данных к единому формату выполнено преобразование типов столбцов work_year, salary и salary_in_usd в целочисленный тип int64 "
   ]
  },
  {
   "cell_type": "markdown",
   "metadata": {
    "id": "lzr0SgqlnmHy"
   },
   "source": [
    "### 6. Группировка данных"
   ]
  },
  {
   "cell_type": "markdown",
   "metadata": {
    "id": "QG_dbwzfmZoS"
   },
   "source": [
    "#### Задание 1"
   ]
  },
  {
   "cell_type": "markdown",
   "metadata": {
    "id": "CyCKTB4DmciW"
   },
   "source": [
    "Группировка - “employment_typeˮ и количество каждой локации “company_locationˮ. Результат должен быть выведен в следующем формате (на скриншоте представлен фрагмент)."
   ]
  },
  {
   "cell_type": "code",
   "execution_count": 13,
   "metadata": {
    "id": "tp8Bl1gumYlI"
   },
   "outputs": [
    {
     "data": {
      "text/plain": [
       "employment_type  company_location\n",
       "FL               US                    2\n",
       "FT               AT                    3\n",
       "                 AU                    1\n",
       "                 BR                    1\n",
       "                 CA                   15\n",
       "                 CH                    1\n",
       "                 CL                    1\n",
       "                 DE                   11\n",
       "                 ES                    9\n",
       "                 FR                   11\n",
       "                 GB                   32\n",
       "                 GR                    9\n",
       "                 HN                    1\n",
       "                 HU                    1\n",
       "                 IL                    1\n",
       "                 IN                   13\n",
       "                 IQ                    1\n",
       "                 IR                    1\n",
       "                 JP                    1\n",
       "                 LU                    1\n",
       "                 MT                    1\n",
       "                 MX                    3\n",
       "                 MY                    1\n",
       "                 NG                    2\n",
       "                 NL                    1\n",
       "                 PK                    2\n",
       "                 PL                    2\n",
       "                 RU                    1\n",
       "                 TR                    3\n",
       "                 UA                    1\n",
       "                 US                  205\n",
       "                 VN                    1\n",
       "PT               DE                    1\n",
       "                 DZ                    1\n",
       "                 ES                    1\n",
       "                 IT                    1\n",
       "                 NL                    1\n",
       "dtype: int64"
      ]
     },
     "execution_count": 13,
     "metadata": {},
     "output_type": "execute_result"
    }
   ],
   "source": [
    "df.groupby(['employment_type', 'company_location'], observed=True).size()"
   ]
  },
  {
   "cell_type": "markdown",
   "metadata": {
    "id": "jLmhNuq0mms3"
   },
   "source": [
    "Вывод: Данные показывают четкое географическое распределение типов занятости:\n",
    "\n"
   ]
  },
  {
   "cell_type": "markdown",
   "metadata": {
    "id": "quMr70SmnMXS"
   },
   "source": [
    "---\n",
    "\n",
    "**Обратите внимание, что на защите вы должны ориентироваться в синтаксисе. При необходимости нужно быть готовым изменить код по просьбе преподавателя. Например, вместо среднего значения подсчитать медиану и т.д.**\n",
    "\n",
    "\n",
    " ---"
   ]
  },
  {
   "cell_type": "markdown",
   "metadata": {
    "id": "j0isGCzEne7a"
   },
   "source": [
    "#### Задание 2"
   ]
  },
  {
   "cell_type": "markdown",
   "metadata": {
    "id": "kE2vLBWbne7a"
   },
   "source": [
    "Задание 2: Группировка - “work_yearˮ и количество компаний каждого размера. Создать датафрейм. Переименовать столбец с количеством в “сountˮ. Отсортировать по убыванию столбца “countˮ."
   ]
  },
  {
   "cell_type": "code",
   "execution_count": 27,
   "metadata": {
    "id": "ttn78Zaene7a"
   },
   "outputs": [
    {
     "data": {
      "text/html": [
       "<div>\n",
       "<style scoped>\n",
       "    .dataframe tbody tr th:only-of-type {\n",
       "        vertical-align: middle;\n",
       "    }\n",
       "\n",
       "    .dataframe tbody tr th {\n",
       "        vertical-align: top;\n",
       "    }\n",
       "\n",
       "    .dataframe thead th {\n",
       "        text-align: right;\n",
       "    }\n",
       "</style>\n",
       "<table border=\"1\" class=\"dataframe\">\n",
       "  <thead>\n",
       "    <tr style=\"text-align: right;\">\n",
       "      <th></th>\n",
       "      <th>employment_type</th>\n",
       "      <th>count</th>\n",
       "    </tr>\n",
       "  </thead>\n",
       "  <tbody>\n",
       "    <tr>\n",
       "      <th>0</th>\n",
       "      <td>FL</td>\n",
       "      <td>2</td>\n",
       "    </tr>\n",
       "    <tr>\n",
       "      <th>2</th>\n",
       "      <td>PT</td>\n",
       "      <td>5</td>\n",
       "    </tr>\n",
       "    <tr>\n",
       "      <th>1</th>\n",
       "      <td>FT</td>\n",
       "      <td>337</td>\n",
       "    </tr>\n",
       "  </tbody>\n",
       "</table>\n",
       "</div>"
      ],
      "text/plain": [
       "  employment_type  count\n",
       "0              FL      2\n",
       "2              PT      5\n",
       "1              FT    337"
      ]
     },
     "execution_count": 27,
     "metadata": {},
     "output_type": "execute_result"
    }
   ],
   "source": [
    "new_df = (\n",
    "    df.groupby('employment_type', observed=True)['company_location']\n",
    "    .size()\n",
    "    .reset_index(name='count')\n",
    "    .sort_values('count', ascending=True)\n",
    ")\n",
    "new_df"
   ]
  },
  {
   "cell_type": "markdown",
   "metadata": {
    "id": "HCyyeAu6ne7a"
   },
   "source": [
    "Вывод: Результат показывает количество записей для каждого типа занятости:\n",
    "\n"
   ]
  },
  {
   "cell_type": "markdown",
   "metadata": {
    "id": "NKLZ0m7Nne7b"
   },
   "source": [
    "---\n",
    "\n",
    "**Обратите внимание, что на защите вы должны ориентироваться в синтаксисе. При необходимости нужно быть готовым изменить код по просьбе преподавателя. Например, вместо среднего значения подсчитать медиану и т.д.**\n",
    "\n",
    "\n",
    " ---"
   ]
  },
  {
   "cell_type": "markdown",
   "metadata": {
    "id": "_3fHGp64nhUJ"
   },
   "source": [
    "#### Задание 3"
   ]
  },
  {
   "cell_type": "markdown",
   "metadata": {
    "id": "_Bc4ehyKnhUJ"
   },
   "source": [
    "Сводная таблица (pivot_table) - средняя зарплата в usd по должностям (ˮjob_titleˮ). \n",
    "Отсортировать по убыванию. \n",
    "Округлить до двух знаков после запятой. \n",
    "Переименовать столбец “salary_in_usdˮ в “зарплатаˮ."
   ]
  },
  {
   "cell_type": "code",
   "execution_count": 15,
   "metadata": {
    "id": "siDovPvQnhUJ"
   },
   "outputs": [
    {
     "name": "stdout",
     "output_type": "stream",
     "text": [
      "                             зарплата\n",
      "job_title                            \n",
      "Data Analytics Lead         405000.00\n",
      "Head of Data Science        146718.75\n",
      "Data Analytics Manager      127134.29\n",
      "Machine Learning Manager    117104.00\n",
      "Data Engineer               109295.46\n",
      "Data Scientist              101784.58\n",
      "Machine Learning Developer   89395.50\n",
      "Data Analyst                 88303.45\n",
      "Head of Machine Learning     79039.00\n",
      "Data Science Engineer        75803.33\n",
      "Data Analytics Engineer      64799.25\n",
      "NLP Engineer                 37236.00\n",
      "Product Data Analyst         13036.00\n"
     ]
    }
   ],
   "source": [
    "pivot_table = df.pivot_table(\n",
    "    values='salary_in_usd',  \n",
    "    index='job_title',      \n",
    "    aggfunc='mean'  \n",
    ")\n",
    "\n",
    "pivot_table = pivot_table.rename(columns={'salary_in_usd': 'зарплата'})\n",
    "\n",
    "pivot_table['зарплата'] = pivot_table['зарплата'].round(2)\n",
    "\n",
    "pivot_table_sorted = pivot_table.sort_values('зарплата', ascending=False)\n",
    "print(pivot_table_sorted.to_string())"
   ]
  },
  {
   "cell_type": "markdown",
   "metadata": {
    "id": "1-vw8iyUnhUK"
   },
   "source": [
    "Результаты сводной таблицы показывают значительный разброс в уровне медианных зарплат в зависимости от должности."
   ]
  },
  {
   "cell_type": "markdown",
   "metadata": {
    "id": "wKFm0zDenhUK"
   },
   "source": [
    "---\n",
    "\n",
    "**Обратите внимание, что на защите вы должны ориентироваться в синтаксисе. При необходимости нужно быть готовым изменить код по просьбе преподавателя. Например, вместо среднего значения подсчитать медиану и т.д.**\n",
    "\n",
    "\n",
    " ---"
   ]
  },
  {
   "cell_type": "markdown",
   "metadata": {
    "id": "FOlw74xCniNo"
   },
   "source": [
    "#### Задание 4"
   ]
  },
  {
   "cell_type": "markdown",
   "metadata": {
    "id": "4tvYwT25niNq"
   },
   "source": [
    "Сводная таблица (pivot_table) - медианная зарплата по годам - строки, и по “employment_typeˮ - столбцы. \n",
    "Отсортировать по убыванию годов."
   ]
  },
  {
   "cell_type": "code",
   "execution_count": 16,
   "metadata": {
    "id": "TfJ719g6niNq"
   },
   "outputs": [
    {
     "name": "stdout",
     "output_type": "stream",
     "text": [
      "employment_type        FL        FT       PT\n",
      "work_year                                   \n",
      "2022             100000.0  115967.0  77478.5\n",
      "2021              20000.0   79598.5  40047.5\n",
      "2020                  NaN   68428.0  21669.0\n"
     ]
    },
    {
     "name": "stderr",
     "output_type": "stream",
     "text": [
      "/var/folders/6b/mtrg9ql91mxfr0qrtq79_x3w0000gn/T/ipykernel_6310/2397531699.py:1: FutureWarning: The default value of observed=False is deprecated and will change to observed=True in a future version of pandas. Specify observed=False to silence this warning and retain the current behavior\n",
      "  pivot_table = df.pivot_table(\n"
     ]
    }
   ],
   "source": [
    "pivot_table = df.pivot_table(\n",
    "    values='salary_in_usd',      \n",
    "    index='work_year',         \n",
    "    columns='employment_type',   \n",
    "    aggfunc='median'        \n",
    ").sort_index(ascending=False).round(2)\n",
    "\n",
    "\n",
    "print(pivot_table.to_string())"
   ]
  },
  {
   "cell_type": "markdown",
   "metadata": {
    "id": "yqJqvk5qniNr"
   },
   "source": [
    "Вывод: Из результата можно увидеть динамику изменения медианных зарплат."
   ]
  },
  {
   "cell_type": "markdown",
   "metadata": {
    "id": "tIkuqJKUniNs"
   },
   "source": [
    "---\n",
    "\n",
    "**Обратите внимание, что на защите вы должны ориентироваться в синтаксисе. При необходимости нужно быть готовым изменить код по просьбе преподавателя. Например, вместо среднего значения подсчитать медиану и т.д.**\n",
    "\n",
    "\n",
    " ---"
   ]
  },
  {
   "cell_type": "markdown",
   "metadata": {
    "id": "TpnXb6gip3S8"
   },
   "source": [
    "### Вывод"
   ]
  },
  {
   "cell_type": "markdown",
   "metadata": {
    "id": "nqLa096jM1Z8"
   },
   "source": [
    "В рамках практической работы освоены базовые навыки работы в среде Jupyter Notebook и форматирования документов с использованием Markdown. Проведено знакомство с функционалом библиотеки pandas для обработки и анализа структурированных данных в формате CSV. Практически изучены методы первичного анализа данных, группировки информации и построения сводных таблиц средствами языка Python."
   ]
  },
  {
   "cell_type": "markdown",
   "metadata": {
    "id": "Sn3y7og_vjGG"
   },
   "source": [
    "### Дополнительное задание"
   ]
  },
  {
   "cell_type": "markdown",
   "metadata": {
    "id": "rR6WgHXYvlqD"
   },
   "source": [
    "**`Подробная формулировка задания`**"
   ]
  },
  {
   "cell_type": "code",
   "execution_count": 17,
   "metadata": {
    "id": "wG5TGQpevlBq"
   },
   "outputs": [],
   "source": [
    "# код выполнения задания"
   ]
  },
  {
   "cell_type": "markdown",
   "metadata": {
    "id": "y-qpTuhTvon3"
   },
   "source": [
    "***`Подробный вывод по заданию, описание полученных результатов`***"
   ]
  }
 ],
 "metadata": {
  "colab": {
   "provenance": []
  },
  "kernelspec": {
   "display_name": "Python 3 (ipykernel)",
   "language": "python",
   "name": "python3"
  },
  "language_info": {
   "codemirror_mode": {
    "name": "ipython",
    "version": 3
   },
   "file_extension": ".py",
   "mimetype": "text/x-python",
   "name": "python",
   "nbconvert_exporter": "python",
   "pygments_lexer": "ipython3",
   "version": "3.12.7"
  }
 },
 "nbformat": 4,
 "nbformat_minor": 4
}
