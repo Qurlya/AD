{
 "cells": [
  {
   "cell_type": "markdown",
   "metadata": {
    "id": "bri_pAriNFqN"
   },
   "source": [
    "**Цель работы:**\n",
    "\n",
    "Осуществить предварительную обработку данных csv-файла, выявить и устранить проблемы в этих данных."
   ]
  },
  {
   "cell_type": "markdown",
   "metadata": {
    "id": "r_e-GeJmgZ8l"
   },
   "source": [
    "# Загрузка набора данных"
   ]
  },
  {
   "cell_type": "markdown",
   "metadata": {
    "id": "eeq9ZAbSguQS"
   },
   "source": [
    "### Описание предметной области"
   ]
  },
  {
   "cell_type": "markdown",
   "metadata": {
    "id": "XHbH8zNIg0Ib"
   },
   "source": [
    "Вариант №:3\n",
    "\n",
    "Набор данных: salary.csv\n",
    " \n",
    "Атрибуты:\n",
    "1.\tГод выплаты заработной платы (целое число)\n",
    "2.\tТип работы (PT - Part-time, FT - Full-time, FL - Freelance)\n",
    "3.\tДолжность\n",
    "4.\tЗарплата за год (целое число)\n",
    "5.\tЗарплата в долларах (целое число)\n",
    "6.\tСтрана проживания\n",
    "7.\tСтрана главного офиса\n",
    "8.\tСреднее кол-во людей в компании (S  менее 50\n",
    "сотрудников (малая), M от 50 до 250 сотрудников (средняя), L - более 250 сотрудников (крупная)) \n"
   ]
  },
  {
   "cell_type": "markdown",
   "metadata": {
    "id": "Lwin9ia7hT1i"
   },
   "source": [
    "### 1.Чтение файла (набора данных)"
   ]
  },
  {
   "cell_type": "markdown",
   "metadata": {
    "id": "eAYzXaLrh-qh"
   },
   "source": [
    "Загружен датасет из файла salary.csv с разделителем \";\"."
   ]
  },
  {
   "cell_type": "code",
   "execution_count": 2,
   "metadata": {
    "id": "a5dYQO5YhOYa"
   },
   "outputs": [],
   "source": [
    "import pandas as pd\n",
    "df = pd.read_csv('salary.csv', sep=';')"
   ]
  },
  {
   "cell_type": "markdown",
   "metadata": {
    "id": "p82p53SvhjLN"
   },
   "source": [
    "### 2. Обзор данных"
   ]
  },
  {
   "cell_type": "markdown",
   "metadata": {
    "id": "eAYzXaLrh-qh"
   },
   "source": [
    "2.1 Вывод первых 20 строк с помощью метода head."
   ]
  },
  {
   "cell_type": "code",
   "execution_count": 3,
   "metadata": {
    "id": "7yMo3VZ_hotx",
    "scrolled": true
   },
   "outputs": [
    {
     "data": {
      "text/html": [
       "<div>\n",
       "<style scoped>\n",
       "    .dataframe tbody tr th:only-of-type {\n",
       "        vertical-align: middle;\n",
       "    }\n",
       "\n",
       "    .dataframe tbody tr th {\n",
       "        vertical-align: top;\n",
       "    }\n",
       "\n",
       "    .dataframe thead th {\n",
       "        text-align: right;\n",
       "    }\n",
       "</style>\n",
       "<table border=\"1\" class=\"dataframe\">\n",
       "  <thead>\n",
       "    <tr style=\"text-align: right;\">\n",
       "      <th></th>\n",
       "      <th>work_year</th>\n",
       "      <th>employment_type</th>\n",
       "      <th>job_title</th>\n",
       "      <th>salary</th>\n",
       "      <th>salary_in_usd</th>\n",
       "      <th>employee_residence</th>\n",
       "      <th>company_location</th>\n",
       "      <th>company_size</th>\n",
       "    </tr>\n",
       "  </thead>\n",
       "  <tbody>\n",
       "    <tr>\n",
       "      <th>0</th>\n",
       "      <td>2020.0</td>\n",
       "      <td>FT</td>\n",
       "      <td>Data SCIENTIST</td>\n",
       "      <td>70000.0</td>\n",
       "      <td>79833.0</td>\n",
       "      <td>DE</td>\n",
       "      <td>DE</td>\n",
       "      <td>L</td>\n",
       "    </tr>\n",
       "    <tr>\n",
       "      <th>1</th>\n",
       "      <td>2020.0</td>\n",
       "      <td>FT</td>\n",
       "      <td>Product Data Analyst</td>\n",
       "      <td>20000.0</td>\n",
       "      <td>20000.0</td>\n",
       "      <td>HN</td>\n",
       "      <td>HN</td>\n",
       "      <td>S</td>\n",
       "    </tr>\n",
       "    <tr>\n",
       "      <th>2</th>\n",
       "      <td>2020.0</td>\n",
       "      <td>FT</td>\n",
       "      <td>Data Analyst</td>\n",
       "      <td>72000.0</td>\n",
       "      <td>72000.0</td>\n",
       "      <td>US</td>\n",
       "      <td>US</td>\n",
       "      <td>L</td>\n",
       "    </tr>\n",
       "    <tr>\n",
       "      <th>3</th>\n",
       "      <td>2020.0</td>\n",
       "      <td>FT</td>\n",
       "      <td>Data Scientist</td>\n",
       "      <td>11000000.0</td>\n",
       "      <td>35735.0</td>\n",
       "      <td>HU</td>\n",
       "      <td>HU</td>\n",
       "      <td>L</td>\n",
       "    </tr>\n",
       "    <tr>\n",
       "      <th>4</th>\n",
       "      <td>2020.0</td>\n",
       "      <td>FT</td>\n",
       "      <td>Data Scientist</td>\n",
       "      <td>45000.0</td>\n",
       "      <td>51321.0</td>\n",
       "      <td>FR</td>\n",
       "      <td>FR</td>\n",
       "      <td>S</td>\n",
       "    </tr>\n",
       "    <tr>\n",
       "      <th>5</th>\n",
       "      <td>2020.0</td>\n",
       "      <td>FT</td>\n",
       "      <td>Data Scientist</td>\n",
       "      <td>3000000.0</td>\n",
       "      <td>40481.0</td>\n",
       "      <td>IN</td>\n",
       "      <td>IN</td>\n",
       "      <td>L</td>\n",
       "    </tr>\n",
       "    <tr>\n",
       "      <th>6</th>\n",
       "      <td>2020.0</td>\n",
       "      <td>FT</td>\n",
       "      <td>Data Scientist</td>\n",
       "      <td>35000.0</td>\n",
       "      <td>39916.0</td>\n",
       "      <td>FR</td>\n",
       "      <td>FR</td>\n",
       "      <td>M</td>\n",
       "    </tr>\n",
       "    <tr>\n",
       "      <th>7</th>\n",
       "      <td>2020.0</td>\n",
       "      <td>FT</td>\n",
       "      <td>Data Analyst</td>\n",
       "      <td>85000.0</td>\n",
       "      <td>85000.0</td>\n",
       "      <td>US</td>\n",
       "      <td>US</td>\n",
       "      <td>L</td>\n",
       "    </tr>\n",
       "    <tr>\n",
       "      <th>8</th>\n",
       "      <td>2020.0</td>\n",
       "      <td>FT</td>\n",
       "      <td>Data Analyst</td>\n",
       "      <td>8000.0</td>\n",
       "      <td>8000.0</td>\n",
       "      <td>PK</td>\n",
       "      <td>PK</td>\n",
       "      <td>Large</td>\n",
       "    </tr>\n",
       "    <tr>\n",
       "      <th>9</th>\n",
       "      <td>2020.0</td>\n",
       "      <td>FT</td>\n",
       "      <td>Data Engineer</td>\n",
       "      <td>4450000.0</td>\n",
       "      <td>41689.0</td>\n",
       "      <td>JP</td>\n",
       "      <td>JP</td>\n",
       "      <td>S</td>\n",
       "    </tr>\n",
       "    <tr>\n",
       "      <th>10</th>\n",
       "      <td>2020.0</td>\n",
       "      <td>FT</td>\n",
       "      <td>Product Data Analyst</td>\n",
       "      <td>450000.0</td>\n",
       "      <td>6072.0</td>\n",
       "      <td>IN</td>\n",
       "      <td>IN</td>\n",
       "      <td>L</td>\n",
       "    </tr>\n",
       "    <tr>\n",
       "      <th>11</th>\n",
       "      <td>2020.0</td>\n",
       "      <td>FT</td>\n",
       "      <td>Data Engineer</td>\n",
       "      <td>42000.0</td>\n",
       "      <td>47899.0</td>\n",
       "      <td>GR</td>\n",
       "      <td>GR</td>\n",
       "      <td>L</td>\n",
       "    </tr>\n",
       "    <tr>\n",
       "      <th>12</th>\n",
       "      <td>2020.0</td>\n",
       "      <td>FT</td>\n",
       "      <td>Data Engineer</td>\n",
       "      <td>720000.0</td>\n",
       "      <td>33511.0</td>\n",
       "      <td>MX</td>\n",
       "      <td>MX</td>\n",
       "      <td>S</td>\n",
       "    </tr>\n",
       "    <tr>\n",
       "      <th>13</th>\n",
       "      <td>2020.0</td>\n",
       "      <td>FT</td>\n",
       "      <td>Machine Learning Manager</td>\n",
       "      <td>157000.0</td>\n",
       "      <td>117104.0</td>\n",
       "      <td>CA</td>\n",
       "      <td>CA</td>\n",
       "      <td>L</td>\n",
       "    </tr>\n",
       "    <tr>\n",
       "      <th>14</th>\n",
       "      <td>2020.0</td>\n",
       "      <td>FT</td>\n",
       "      <td>Data Scientist</td>\n",
       "      <td>60000.0</td>\n",
       "      <td>68428.0</td>\n",
       "      <td>GR</td>\n",
       "      <td>US</td>\n",
       "      <td>L</td>\n",
       "    </tr>\n",
       "    <tr>\n",
       "      <th>15</th>\n",
       "      <td>2020.0</td>\n",
       "      <td>FT</td>\n",
       "      <td>Data Analyst</td>\n",
       "      <td>41000.0</td>\n",
       "      <td>46759.0</td>\n",
       "      <td>FR</td>\n",
       "      <td>FR</td>\n",
       "      <td>L</td>\n",
       "    </tr>\n",
       "    <tr>\n",
       "      <th>16</th>\n",
       "      <td>2020.0</td>\n",
       "      <td>FT</td>\n",
       "      <td>Data Engineer</td>\n",
       "      <td>65000.0</td>\n",
       "      <td>74130.0</td>\n",
       "      <td>AT</td>\n",
       "      <td>AT</td>\n",
       "      <td>L</td>\n",
       "    </tr>\n",
       "    <tr>\n",
       "      <th>17</th>\n",
       "      <td>2020.0</td>\n",
       "      <td>FT</td>\n",
       "      <td>Data Analyst</td>\n",
       "      <td>10000.0</td>\n",
       "      <td>10000.0</td>\n",
       "      <td>NG</td>\n",
       "      <td>NG</td>\n",
       "      <td>S</td>\n",
       "    </tr>\n",
       "    <tr>\n",
       "      <th>18</th>\n",
       "      <td>2020.0</td>\n",
       "      <td>FT</td>\n",
       "      <td>Data Scientist</td>\n",
       "      <td>45760.0</td>\n",
       "      <td>45760.0</td>\n",
       "      <td>PH</td>\n",
       "      <td>US</td>\n",
       "      <td>S</td>\n",
       "    </tr>\n",
       "    <tr>\n",
       "      <th>19</th>\n",
       "      <td>2020.0</td>\n",
       "      <td>FT</td>\n",
       "      <td>Data Engineer</td>\n",
       "      <td>106000.0</td>\n",
       "      <td>106000.0</td>\n",
       "      <td>US</td>\n",
       "      <td>US</td>\n",
       "      <td>L</td>\n",
       "    </tr>\n",
       "  </tbody>\n",
       "</table>\n",
       "</div>"
      ],
      "text/plain": [
       "    work_year employment_type                 job_title      salary  \\\n",
       "0      2020.0              FT            Data SCIENTIST     70000.0   \n",
       "1      2020.0              FT      Product Data Analyst     20000.0   \n",
       "2      2020.0              FT              Data Analyst     72000.0   \n",
       "3      2020.0              FT            Data Scientist  11000000.0   \n",
       "4      2020.0              FT            Data Scientist     45000.0   \n",
       "5      2020.0              FT            Data Scientist   3000000.0   \n",
       "6      2020.0              FT            Data Scientist     35000.0   \n",
       "7      2020.0              FT              Data Analyst     85000.0   \n",
       "8      2020.0              FT              Data Analyst      8000.0   \n",
       "9      2020.0              FT             Data Engineer   4450000.0   \n",
       "10     2020.0              FT      Product Data Analyst    450000.0   \n",
       "11     2020.0              FT             Data Engineer     42000.0   \n",
       "12     2020.0              FT             Data Engineer    720000.0   \n",
       "13     2020.0              FT  Machine Learning Manager    157000.0   \n",
       "14     2020.0              FT            Data Scientist     60000.0   \n",
       "15     2020.0              FT              Data Analyst     41000.0   \n",
       "16     2020.0              FT             Data Engineer     65000.0   \n",
       "17     2020.0              FT              Data Analyst     10000.0   \n",
       "18     2020.0              FT            Data Scientist     45760.0   \n",
       "19     2020.0              FT             Data Engineer    106000.0   \n",
       "\n",
       "    salary_in_usd employee_residence company_location company_size  \n",
       "0         79833.0                 DE               DE            L  \n",
       "1         20000.0                 HN               HN            S  \n",
       "2         72000.0                 US               US            L  \n",
       "3         35735.0                 HU               HU            L  \n",
       "4         51321.0                 FR               FR            S  \n",
       "5         40481.0                 IN               IN            L  \n",
       "6         39916.0                 FR               FR            M  \n",
       "7         85000.0                 US               US            L  \n",
       "8          8000.0                 PK               PK        Large  \n",
       "9         41689.0                 JP               JP            S  \n",
       "10         6072.0                 IN               IN            L  \n",
       "11        47899.0                 GR               GR            L  \n",
       "12        33511.0                 MX               MX            S  \n",
       "13       117104.0                 CA               CA            L  \n",
       "14        68428.0                 GR               US            L  \n",
       "15        46759.0                 FR               FR            L  \n",
       "16        74130.0                 AT               AT            L  \n",
       "17        10000.0                 NG               NG            S  \n",
       "18        45760.0                 PH               US            S  \n",
       "19       106000.0                 US               US            L  "
      ]
     },
     "execution_count": 3,
     "metadata": {},
     "output_type": "execute_result"
    }
   ],
   "source": [
    "df.head(20)"
   ]
  },
  {
   "cell_type": "markdown",
   "metadata": {
    "id": "Ze-lXxLMhpWv"
   },
   "source": [
    "2.2 Оценка данных с помощью метода info."
   ]
  },
  {
   "cell_type": "code",
   "execution_count": 4,
   "metadata": {
    "id": "bjhngmaLiGM-",
    "scrolled": true
   },
   "outputs": [
    {
     "name": "stdout",
     "output_type": "stream",
     "text": [
      "<class 'pandas.core.frame.DataFrame'>\n",
      "RangeIndex: 401 entries, 0 to 400\n",
      "Data columns (total 8 columns):\n",
      " #   Column              Non-Null Count  Dtype  \n",
      "---  ------              --------------  -----  \n",
      " 0   work_year           401 non-null    float64\n",
      " 1   employment_type     401 non-null    object \n",
      " 2   job_title           401 non-null    object \n",
      " 3   salary              398 non-null    float64\n",
      " 4   salary_in_usd       401 non-null    float64\n",
      " 5   employee_residence  401 non-null    object \n",
      " 6   company_location    401 non-null    object \n",
      " 7   company_size        401 non-null    object \n",
      "dtypes: float64(3), object(5)\n",
      "memory usage: 25.2+ KB\n"
     ]
    }
   ],
   "source": [
    "df.info()"
   ]
  },
  {
   "cell_type": "markdown",
   "metadata": {
    "id": "06PDq9DAiMAY"
   },
   "source": [
    "2.3 Оценка данных с помощью метода describe."
   ]
  },
  {
   "cell_type": "code",
   "execution_count": 5,
   "metadata": {
    "id": "cTVFwzO1jQfN"
   },
   "outputs": [
    {
     "data": {
      "text/html": [
       "<div>\n",
       "<style scoped>\n",
       "    .dataframe tbody tr th:only-of-type {\n",
       "        vertical-align: middle;\n",
       "    }\n",
       "\n",
       "    .dataframe tbody tr th {\n",
       "        vertical-align: top;\n",
       "    }\n",
       "\n",
       "    .dataframe thead th {\n",
       "        text-align: right;\n",
       "    }\n",
       "</style>\n",
       "<table border=\"1\" class=\"dataframe\">\n",
       "  <thead>\n",
       "    <tr style=\"text-align: right;\">\n",
       "      <th></th>\n",
       "      <th>work_year</th>\n",
       "      <th>salary</th>\n",
       "      <th>salary_in_usd</th>\n",
       "    </tr>\n",
       "  </thead>\n",
       "  <tbody>\n",
       "    <tr>\n",
       "      <th>count</th>\n",
       "      <td>401.000000</td>\n",
       "      <td>3.980000e+02</td>\n",
       "      <td>401.000000</td>\n",
       "    </tr>\n",
       "    <tr>\n",
       "      <th>mean</th>\n",
       "      <td>2021.528678</td>\n",
       "      <td>2.888336e+05</td>\n",
       "      <td>105895.017456</td>\n",
       "    </tr>\n",
       "    <tr>\n",
       "      <th>std</th>\n",
       "      <td>0.678086</td>\n",
       "      <td>1.677081e+06</td>\n",
       "      <td>58183.664171</td>\n",
       "    </tr>\n",
       "    <tr>\n",
       "      <th>min</th>\n",
       "      <td>2020.000000</td>\n",
       "      <td>4.000000e+03</td>\n",
       "      <td>2859.000000</td>\n",
       "    </tr>\n",
       "    <tr>\n",
       "      <th>25%</th>\n",
       "      <td>2021.000000</td>\n",
       "      <td>6.700000e+04</td>\n",
       "      <td>65013.000000</td>\n",
       "    </tr>\n",
       "    <tr>\n",
       "      <th>50%</th>\n",
       "      <td>2022.000000</td>\n",
       "      <td>1.091400e+05</td>\n",
       "      <td>100000.000000</td>\n",
       "    </tr>\n",
       "    <tr>\n",
       "      <th>75%</th>\n",
       "      <td>2022.000000</td>\n",
       "      <td>1.500000e+05</td>\n",
       "      <td>140000.000000</td>\n",
       "    </tr>\n",
       "    <tr>\n",
       "      <th>max</th>\n",
       "      <td>2022.000000</td>\n",
       "      <td>3.040000e+07</td>\n",
       "      <td>412000.000000</td>\n",
       "    </tr>\n",
       "  </tbody>\n",
       "</table>\n",
       "</div>"
      ],
      "text/plain": [
       "         work_year        salary  salary_in_usd\n",
       "count   401.000000  3.980000e+02     401.000000\n",
       "mean   2021.528678  2.888336e+05  105895.017456\n",
       "std       0.678086  1.677081e+06   58183.664171\n",
       "min    2020.000000  4.000000e+03    2859.000000\n",
       "25%    2021.000000  6.700000e+04   65013.000000\n",
       "50%    2022.000000  1.091400e+05  100000.000000\n",
       "75%    2022.000000  1.500000e+05  140000.000000\n",
       "max    2022.000000  3.040000e+07  412000.000000"
      ]
     },
     "execution_count": 5,
     "metadata": {},
     "output_type": "execute_result"
    }
   ],
   "source": [
    "df.describe()"
   ]
  },
  {
   "cell_type": "markdown",
   "metadata": {
    "id": "oOZUrZGuiGqc"
   },
   "source": [
    "Выводы: каждый столбец является числовым и отображает результат применения статистических функций ко всем значениям соответствующего столбца исходной таблицы. В строке 'count' представлено количество непустых значений, в строке 'mean' - среднее арифметическое, в 'std' - стандартное отклонение, в 'min'/'max' - минимальное и максимальное значения, а в перцентилях (25%, 50%, 75%) - соответствующие квантили распределения данных."
   ]
  },
  {
   "cell_type": "markdown",
   "metadata": {
    "id": "JTbo0IGDiHxn"
   },
   "source": [
    " 2.4 Оценка названий столбцов"
   ]
  },
  {
   "cell_type": "code",
   "execution_count": 6,
   "metadata": {
    "id": "9NEyi2Odik3e"
   },
   "outputs": [
    {
     "data": {
      "text/plain": [
       "Index(['work_year', 'employment_type', 'job_title', 'salary', 'salary_in_usd',\n",
       "       'employee_residence', 'company_location', 'company_size'],\n",
       "      dtype='object')"
      ]
     },
     "execution_count": 6,
     "metadata": {},
     "output_type": "execute_result"
    }
   ],
   "source": [
    "df.columns"
   ]
  },
  {
   "cell_type": "markdown",
   "metadata": {
    "id": "V0tLQcyrjnA_"
   },
   "source": [
    "### 3. Проверка пропусков"
   ]
  },
  {
   "cell_type": "markdown",
   "metadata": {},
   "source": [
    "В соответствие с выполнением метода info() ранее, выявлено 3 строки, в которых поле 'salary' является пустым. Их следует удалить с помощью метода dropna()"
   ]
  },
  {
   "cell_type": "code",
   "execution_count": 7,
   "metadata": {
    "id": "xuTz-Avjj9AW"
   },
   "outputs": [
    {
     "name": "stdout",
     "output_type": "stream",
     "text": [
      "Удалено записей: 3\n"
     ]
    }
   ],
   "source": [
    "df.isnull().sum()\n",
    "df_cleaned = df.dropna(subset=['salary'])\n",
    "print(f\"Удалено записей: {len(df) - len(df_cleaned)}\")\n",
    "df = df_cleaned"
   ]
  },
  {
   "cell_type": "markdown",
   "metadata": {
    "id": "efZ7vgSVkPQH"
   },
   "source": [
    "\n",
    "---\n",
    "\n",
    "**Вы должны аргументировать на защите, почему были выполнены те или иные действия с пропусками, а также знать другие способы работы с пропусками, чтобы\n",
    " ответить на вопросы на защите.**\n",
    "\n",
    "\n",
    " ---"
   ]
  },
  {
   "cell_type": "markdown",
   "metadata": {
    "id": "kkyrXXHikEXk"
   },
   "source": [
    "### 4. Проверка дубликатов"
   ]
  },
  {
   "cell_type": "markdown",
   "metadata": {
    "id": "ImqHvr3okIQ6"
   },
   "source": [
    "#### Проверка явных дубликатов"
   ]
  },
  {
   "cell_type": "markdown",
   "metadata": {},
   "source": [
    "Для проверки явных дубликатов следует использовать стандартный метод duplicated() и просуммировать результирующую таблицу."
   ]
  },
  {
   "cell_type": "code",
   "execution_count": 8,
   "metadata": {
    "id": "qu1oh-e5lDZ1"
   },
   "outputs": [
    {
     "name": "stdout",
     "output_type": "stream",
     "text": [
      "54\n"
     ]
    }
   ],
   "source": [
    "duplicate_count = df.duplicated().sum()\n",
    "print(duplicate_count)\n"
   ]
  },
  {
   "cell_type": "code",
   "execution_count": 9,
   "metadata": {
    "id": "ntArgvChkK26"
   },
   "outputs": [],
   "source": [
    "if duplicate_count > 0:\n",
    "    df = df.drop_duplicates()"
   ]
  },
  {
   "cell_type": "markdown",
   "metadata": {
    "id": "VeHTMcOmkLSw"
   },
   "source": [
    "#### Проверка неявных дубликатов"
   ]
  },
  {
   "cell_type": "markdown",
   "metadata": {},
   "source": [
    "Выводим все уникальные значения столбцов для выявления похожих значений и соответствующего их удаления. С учетом информативного содержания, интересующими столбцами являются 'job_title' и 'company_size'"
   ]
  },
  {
   "cell_type": "code",
   "execution_count": 10,
   "metadata": {
    "id": "-uOPKHlVlGo8"
   },
   "outputs": [
    {
     "name": "stdout",
     "output_type": "stream",
     "text": [
      "job_title: ['Data SCIENTIST' 'Product Data Analyst' 'Data Analyst' 'Data Scientist'\n",
      " 'Data Engineer' 'Machine Learning Manager' 'Data Analytics Engineer'\n",
      " 'Data Science Engineer' 'Machine Learning Developer'\n",
      " 'Data Analytics Manager' 'Head of Data Science'\n",
      " 'Head of Machine Learning' 'NLP Engineer' 'Data Analytics Lead'\n",
      " 'DataScientist' 'Data AnalyticsManager']\n",
      "company_size: ['L' 'S' 'M' 'Large']\n"
     ]
    }
   ],
   "source": [
    "def print_implicit_duplicates():\n",
    "    columns_to_check = ['job_title', 'company_size']\n",
    "    \n",
    "    for col in columns_to_check:\n",
    "        if col in df.columns:\n",
    "            unique_values = df[col].unique()\n",
    "            print(f\"{col}: {unique_values}\")\n",
    "        else:\n",
    "            print(f\"Столбец '{col}' не найден\")\n",
    "\n",
    "print_implicit_duplicates()"
   ]
  },
  {
   "cell_type": "markdown",
   "metadata": {},
   "source": [
    "Теперь, произведём замену неявных дубликатов на соответствующие варианты. Также отобразим уникальные значения, чтобы проверить, что замена прошла корректно."
   ]
  },
  {
   "cell_type": "code",
   "execution_count": 11,
   "metadata": {
    "id": "89tMFEQ2k_M7"
   },
   "outputs": [
    {
     "name": "stdout",
     "output_type": "stream",
     "text": [
      "job_title: ['Data Scientist' 'Product Data Analyst' 'Data Analyst' 'Data Engineer'\n",
      " 'Machine Learning Manager' 'Data Analytics Engineer'\n",
      " 'Data Science Engineer' 'Machine Learning Developer'\n",
      " 'Data Analytics Manager' 'Head of Data Science'\n",
      " 'Head of Machine Learning' 'NLP Engineer' 'Data Analytics Lead']\n",
      "company_size: ['L' 'S' 'M']\n"
     ]
    },
    {
     "name": "stderr",
     "output_type": "stream",
     "text": [
      "/var/folders/6b/mtrg9ql91mxfr0qrtq79_x3w0000gn/T/ipykernel_23351/856334096.py:1: SettingWithCopyWarning: \n",
      "A value is trying to be set on a copy of a slice from a DataFrame.\n",
      "Try using .loc[row_indexer,col_indexer] = value instead\n",
      "\n",
      "See the caveats in the documentation: https://pandas.pydata.org/pandas-docs/stable/user_guide/indexing.html#returning-a-view-versus-a-copy\n",
      "  df['company_size'] = df['company_size'].replace('Large', 'L')\n",
      "/var/folders/6b/mtrg9ql91mxfr0qrtq79_x3w0000gn/T/ipykernel_23351/856334096.py:2: SettingWithCopyWarning: \n",
      "A value is trying to be set on a copy of a slice from a DataFrame.\n",
      "Try using .loc[row_indexer,col_indexer] = value instead\n",
      "\n",
      "See the caveats in the documentation: https://pandas.pydata.org/pandas-docs/stable/user_guide/indexing.html#returning-a-view-versus-a-copy\n",
      "  df['job_title'] = (df['job_title']\n"
     ]
    }
   ],
   "source": [
    "\n",
    "df['company_size'] = df['company_size'].replace('Large', 'L')\n",
    "df['job_title'] = (df['job_title']\n",
    "    .replace('Data SCIENTIST', 'Data Scientist')\n",
    "    .replace('DataScientist', 'Data Scientist')\n",
    "    .replace('Data AnalyticsManager', 'Data Analytics Manager'))\n",
    "\n",
    "print_implicit_duplicates()"
   ]
  },
  {
   "cell_type": "markdown",
   "metadata": {
    "id": "GMcnDpOmlKhU"
   },
   "source": [
    "---\n",
    "\n",
    "**Вы должны аргументировать на защите, почему были выполнены те или иные действия с дубликатами, знать, что такое явные и неявные дубликаты и способы работы с ними, чтобы ответить на вопросы на защите.**\n",
    "\n",
    "\n",
    " ---"
   ]
  },
  {
   "cell_type": "markdown",
   "metadata": {
    "id": "md9GhfYMlbi7"
   },
   "source": [
    "### 5. Провека типов данных"
   ]
  },
  {
   "cell_type": "code",
   "execution_count": 26,
   "metadata": {
    "id": "lXTroENaluCW"
   },
   "outputs": [
    {
     "data": {
      "text/plain": [
       "work_year                         int64\n",
       "employment_type                  object\n",
       "job_title                        object\n",
       "salary                            int64\n",
       "salary_in_usd                     int64\n",
       "employee_residence               object\n",
       "company_location                 object\n",
       "company_size                     object\n",
       "Категория зарплаты в долларах    object\n",
       "dtype: object"
      ]
     },
     "execution_count": 26,
     "metadata": {},
     "output_type": "execute_result"
    }
   ],
   "source": [
    "df.dtypes"
   ]
  },
  {
   "cell_type": "markdown",
   "metadata": {
    "id": "DPDBNN4dlx7W"
   },
   "source": [
    "---\n",
    "\n",
    "**Обратите внимание, что во всех вариантах необходимо сделать приведение типов. Будьте готовы на защите аргументировать проверку типов (почему выполнены те или иные преобразования).**\n",
    "\n",
    "\n",
    " ---"
   ]
  },
  {
   "cell_type": "code",
   "execution_count": 13,
   "metadata": {
    "id": "WXhXgu29lop3"
   },
   "outputs": [
    {
     "name": "stderr",
     "output_type": "stream",
     "text": [
      "/var/folders/6b/mtrg9ql91mxfr0qrtq79_x3w0000gn/T/ipykernel_23351/893466513.py:1: SettingWithCopyWarning: \n",
      "A value is trying to be set on a copy of a slice from a DataFrame.\n",
      "Try using .loc[row_indexer,col_indexer] = value instead\n",
      "\n",
      "See the caveats in the documentation: https://pandas.pydata.org/pandas-docs/stable/user_guide/indexing.html#returning-a-view-versus-a-copy\n",
      "  df['work_year'] = df['work_year'].astype('int64')\n",
      "/var/folders/6b/mtrg9ql91mxfr0qrtq79_x3w0000gn/T/ipykernel_23351/893466513.py:2: SettingWithCopyWarning: \n",
      "A value is trying to be set on a copy of a slice from a DataFrame.\n",
      "Try using .loc[row_indexer,col_indexer] = value instead\n",
      "\n",
      "See the caveats in the documentation: https://pandas.pydata.org/pandas-docs/stable/user_guide/indexing.html#returning-a-view-versus-a-copy\n",
      "  df['salary'] = df['salary'].astype('int64')\n",
      "/var/folders/6b/mtrg9ql91mxfr0qrtq79_x3w0000gn/T/ipykernel_23351/893466513.py:3: SettingWithCopyWarning: \n",
      "A value is trying to be set on a copy of a slice from a DataFrame.\n",
      "Try using .loc[row_indexer,col_indexer] = value instead\n",
      "\n",
      "See the caveats in the documentation: https://pandas.pydata.org/pandas-docs/stable/user_guide/indexing.html#returning-a-view-versus-a-copy\n",
      "  df['salary_in_usd'] = df['salary_in_usd'].astype('int64')\n"
     ]
    }
   ],
   "source": [
    "df['work_year'] = df['work_year'].astype('int64')\n",
    "df['salary'] = df['salary'].astype('int64')\n",
    "df['salary_in_usd'] = df['salary_in_usd'].astype('int64')"
   ]
  },
  {
   "cell_type": "markdown",
   "metadata": {},
   "source": [
    "Для приведения данных к единому формату выполнено преобразование типов столбцов work_year, salary и salary_in_usd в целочисленный тип int64 "
   ]
  },
  {
   "cell_type": "markdown",
   "metadata": {
    "id": "lzr0SgqlnmHy"
   },
   "source": [
    "### 6. Группировка данных"
   ]
  },
  {
   "cell_type": "markdown",
   "metadata": {
    "id": "QG_dbwzfmZoS"
   },
   "source": [
    "#### Задание 1"
   ]
  },
  {
   "cell_type": "markdown",
   "metadata": {
    "id": "CyCKTB4DmciW"
   },
   "source": [
    "Группировка - “employment_typeˮ и количество каждой локации “company_locationˮ. Результат должен быть выведен в следующем формате (на скриншоте представлен фрагмент)."
   ]
  },
  {
   "cell_type": "code",
   "execution_count": 14,
   "metadata": {
    "id": "tp8Bl1gumYlI"
   },
   "outputs": [
    {
     "data": {
      "text/plain": [
       "employment_type  company_location\n",
       "FL               US                    2\n",
       "FT               AT                    3\n",
       "                 AU                    1\n",
       "                 BR                    1\n",
       "                 CA                   15\n",
       "                 CH                    1\n",
       "                 CL                    1\n",
       "                 DE                   11\n",
       "                 ES                    9\n",
       "                 FR                   11\n",
       "                 GB                   32\n",
       "                 GR                    9\n",
       "                 HN                    1\n",
       "                 HU                    1\n",
       "                 IL                    1\n",
       "                 IN                   13\n",
       "                 IQ                    1\n",
       "                 IR                    1\n",
       "                 JP                    1\n",
       "                 LU                    1\n",
       "                 MT                    1\n",
       "                 MX                    3\n",
       "                 MY                    1\n",
       "                 NG                    2\n",
       "                 NL                    1\n",
       "                 PK                    2\n",
       "                 PL                    2\n",
       "                 RU                    1\n",
       "                 TR                    3\n",
       "                 UA                    1\n",
       "                 US                  205\n",
       "                 VN                    1\n",
       "PT               DE                    1\n",
       "                 DZ                    1\n",
       "                 ES                    1\n",
       "                 IT                    1\n",
       "                 NL                    1\n",
       "dtype: int64"
      ]
     },
     "execution_count": 14,
     "metadata": {},
     "output_type": "execute_result"
    }
   ],
   "source": [
    "df.groupby(['employment_type', 'company_location'], observed=True).size()"
   ]
  },
  {
   "cell_type": "markdown",
   "metadata": {
    "id": "jLmhNuq0mms3"
   },
   "source": [
    "Вывод: Данные показывают четкое географическое распределение типов занятости:\n",
    "\n"
   ]
  },
  {
   "cell_type": "markdown",
   "metadata": {
    "id": "quMr70SmnMXS"
   },
   "source": [
    "---\n",
    "\n",
    "**Обратите внимание, что на защите вы должны ориентироваться в синтаксисе. При необходимости нужно быть готовым изменить код по просьбе преподавателя. Например, вместо среднего значения подсчитать медиану и т.д.**\n",
    "\n",
    "\n",
    " ---"
   ]
  },
  {
   "cell_type": "markdown",
   "metadata": {
    "id": "j0isGCzEne7a"
   },
   "source": [
    "#### Задание 2"
   ]
  },
  {
   "cell_type": "markdown",
   "metadata": {
    "id": "kE2vLBWbne7a"
   },
   "source": [
    "Задание 2: Группировка - “work_yearˮ и количество компаний каждого размера. Создать датафрейм. Переименовать столбец с количеством в “сountˮ. Отсортировать по убыванию столбца “countˮ."
   ]
  },
  {
   "cell_type": "code",
   "execution_count": 15,
   "metadata": {
    "id": "ttn78Zaene7a"
   },
   "outputs": [
    {
     "data": {
      "text/html": [
       "<div>\n",
       "<style scoped>\n",
       "    .dataframe tbody tr th:only-of-type {\n",
       "        vertical-align: middle;\n",
       "    }\n",
       "\n",
       "    .dataframe tbody tr th {\n",
       "        vertical-align: top;\n",
       "    }\n",
       "\n",
       "    .dataframe thead th {\n",
       "        text-align: right;\n",
       "    }\n",
       "</style>\n",
       "<table border=\"1\" class=\"dataframe\">\n",
       "  <thead>\n",
       "    <tr style=\"text-align: right;\">\n",
       "      <th></th>\n",
       "      <th>work_year</th>\n",
       "      <th>count</th>\n",
       "    </tr>\n",
       "  </thead>\n",
       "  <tbody>\n",
       "    <tr>\n",
       "      <th>0</th>\n",
       "      <td>2020</td>\n",
       "      <td>42</td>\n",
       "    </tr>\n",
       "    <tr>\n",
       "      <th>1</th>\n",
       "      <td>2021</td>\n",
       "      <td>103</td>\n",
       "    </tr>\n",
       "    <tr>\n",
       "      <th>2</th>\n",
       "      <td>2022</td>\n",
       "      <td>199</td>\n",
       "    </tr>\n",
       "  </tbody>\n",
       "</table>\n",
       "</div>"
      ],
      "text/plain": [
       "   work_year  count\n",
       "0       2020     42\n",
       "1       2021    103\n",
       "2       2022    199"
      ]
     },
     "execution_count": 15,
     "metadata": {},
     "output_type": "execute_result"
    }
   ],
   "source": [
    "new_df = (\n",
    "    df.groupby('work_year', observed=True)['company_size']\n",
    "    .size()\n",
    "    .reset_index(name='count')\n",
    "    .sort_values('count', ascending=True)\n",
    ")\n",
    "new_df"
   ]
  },
  {
   "cell_type": "markdown",
   "metadata": {
    "id": "HCyyeAu6ne7a"
   },
   "source": [
    "Вывод: Результат показывает количество записей для каждого типа занятости:\n",
    "\n"
   ]
  },
  {
   "cell_type": "markdown",
   "metadata": {
    "id": "NKLZ0m7Nne7b"
   },
   "source": [
    "---\n",
    "\n",
    "**Обратите внимание, что на защите вы должны ориентироваться в синтаксисе. При необходимости нужно быть готовым изменить код по просьбе преподавателя. Например, вместо среднего значения подсчитать медиану и т.д.**\n",
    "\n",
    "\n",
    " ---"
   ]
  },
  {
   "cell_type": "markdown",
   "metadata": {
    "id": "_3fHGp64nhUJ"
   },
   "source": [
    "#### Задание 3"
   ]
  },
  {
   "cell_type": "markdown",
   "metadata": {
    "id": "_Bc4ehyKnhUJ"
   },
   "source": [
    "Сводная таблица (pivot_table) - средняя зарплата в usd по должностям (ˮjob_titleˮ). \n",
    "Отсортировать по убыванию. \n",
    "Округлить до двух знаков после запятой. \n",
    "Переименовать столбец “salary_in_usdˮ в “зарплатаˮ."
   ]
  },
  {
   "cell_type": "code",
   "execution_count": 16,
   "metadata": {
    "id": "siDovPvQnhUJ"
   },
   "outputs": [
    {
     "data": {
      "text/html": [
       "<div>\n",
       "<style scoped>\n",
       "    .dataframe tbody tr th:only-of-type {\n",
       "        vertical-align: middle;\n",
       "    }\n",
       "\n",
       "    .dataframe tbody tr th {\n",
       "        vertical-align: top;\n",
       "    }\n",
       "\n",
       "    .dataframe thead th {\n",
       "        text-align: right;\n",
       "    }\n",
       "</style>\n",
       "<table border=\"1\" class=\"dataframe\">\n",
       "  <thead>\n",
       "    <tr style=\"text-align: right;\">\n",
       "      <th></th>\n",
       "      <th>зарплата</th>\n",
       "    </tr>\n",
       "    <tr>\n",
       "      <th>job_title</th>\n",
       "      <th></th>\n",
       "    </tr>\n",
       "  </thead>\n",
       "  <tbody>\n",
       "    <tr>\n",
       "      <th>Data Analytics Lead</th>\n",
       "      <td>405000.00</td>\n",
       "    </tr>\n",
       "    <tr>\n",
       "      <th>Head of Data Science</th>\n",
       "      <td>146718.75</td>\n",
       "    </tr>\n",
       "    <tr>\n",
       "      <th>Data Analytics Manager</th>\n",
       "      <td>127134.29</td>\n",
       "    </tr>\n",
       "    <tr>\n",
       "      <th>Machine Learning Manager</th>\n",
       "      <td>117104.00</td>\n",
       "    </tr>\n",
       "    <tr>\n",
       "      <th>Data Engineer</th>\n",
       "      <td>109295.46</td>\n",
       "    </tr>\n",
       "    <tr>\n",
       "      <th>Data Scientist</th>\n",
       "      <td>101784.58</td>\n",
       "    </tr>\n",
       "    <tr>\n",
       "      <th>Machine Learning Developer</th>\n",
       "      <td>89395.50</td>\n",
       "    </tr>\n",
       "    <tr>\n",
       "      <th>Data Analyst</th>\n",
       "      <td>88303.45</td>\n",
       "    </tr>\n",
       "    <tr>\n",
       "      <th>Head of Machine Learning</th>\n",
       "      <td>79039.00</td>\n",
       "    </tr>\n",
       "    <tr>\n",
       "      <th>Data Science Engineer</th>\n",
       "      <td>75803.33</td>\n",
       "    </tr>\n",
       "    <tr>\n",
       "      <th>Data Analytics Engineer</th>\n",
       "      <td>64799.25</td>\n",
       "    </tr>\n",
       "    <tr>\n",
       "      <th>NLP Engineer</th>\n",
       "      <td>37236.00</td>\n",
       "    </tr>\n",
       "    <tr>\n",
       "      <th>Product Data Analyst</th>\n",
       "      <td>13036.00</td>\n",
       "    </tr>\n",
       "  </tbody>\n",
       "</table>\n",
       "</div>"
      ],
      "text/plain": [
       "                             зарплата\n",
       "job_title                            \n",
       "Data Analytics Lead         405000.00\n",
       "Head of Data Science        146718.75\n",
       "Data Analytics Manager      127134.29\n",
       "Machine Learning Manager    117104.00\n",
       "Data Engineer               109295.46\n",
       "Data Scientist              101784.58\n",
       "Machine Learning Developer   89395.50\n",
       "Data Analyst                 88303.45\n",
       "Head of Machine Learning     79039.00\n",
       "Data Science Engineer        75803.33\n",
       "Data Analytics Engineer      64799.25\n",
       "NLP Engineer                 37236.00\n",
       "Product Data Analyst         13036.00"
      ]
     },
     "execution_count": 16,
     "metadata": {},
     "output_type": "execute_result"
    }
   ],
   "source": [
    "pivot_table = df.pivot_table(\n",
    "    values='salary_in_usd',  \n",
    "    index='job_title',      \n",
    "    aggfunc='mean'  \n",
    ")\n",
    "\n",
    "pivot_table = pivot_table.rename(columns={'salary_in_usd': 'зарплата'})\n",
    "\n",
    "pivot_table['зарплата'] = pivot_table['зарплата'].round(2)\n",
    "\n",
    "pivot_table.sort_values('зарплата', ascending=False)"
   ]
  },
  {
   "cell_type": "markdown",
   "metadata": {
    "id": "1-vw8iyUnhUK"
   },
   "source": [
    "Результаты сводной таблицы показывают значительный разброс в уровне медианных зарплат в зависимости от должности."
   ]
  },
  {
   "cell_type": "markdown",
   "metadata": {
    "id": "wKFm0zDenhUK"
   },
   "source": [
    "---\n",
    "\n",
    "**Обратите внимание, что на защите вы должны ориентироваться в синтаксисе. При необходимости нужно быть готовым изменить код по просьбе преподавателя. Например, вместо среднего значения подсчитать медиану и т.д.**\n",
    "\n",
    "\n",
    " ---"
   ]
  },
  {
   "cell_type": "markdown",
   "metadata": {
    "id": "FOlw74xCniNo"
   },
   "source": [
    "#### Задание 4"
   ]
  },
  {
   "cell_type": "markdown",
   "metadata": {
    "id": "4tvYwT25niNq"
   },
   "source": [
    "Сводная таблица (pivot_table) - медианная зарплата по годам - строки, и по “employment_typeˮ - столбцы. \n",
    "Отсортировать по убыванию годов."
   ]
  },
  {
   "cell_type": "code",
   "execution_count": 17,
   "metadata": {
    "id": "TfJ719g6niNq"
   },
   "outputs": [
    {
     "data": {
      "text/html": [
       "<div>\n",
       "<style scoped>\n",
       "    .dataframe tbody tr th:only-of-type {\n",
       "        vertical-align: middle;\n",
       "    }\n",
       "\n",
       "    .dataframe tbody tr th {\n",
       "        vertical-align: top;\n",
       "    }\n",
       "\n",
       "    .dataframe thead th {\n",
       "        text-align: right;\n",
       "    }\n",
       "</style>\n",
       "<table border=\"1\" class=\"dataframe\">\n",
       "  <thead>\n",
       "    <tr style=\"text-align: right;\">\n",
       "      <th>employment_type</th>\n",
       "      <th>FL</th>\n",
       "      <th>FT</th>\n",
       "      <th>PT</th>\n",
       "    </tr>\n",
       "    <tr>\n",
       "      <th>work_year</th>\n",
       "      <th></th>\n",
       "      <th></th>\n",
       "      <th></th>\n",
       "    </tr>\n",
       "  </thead>\n",
       "  <tbody>\n",
       "    <tr>\n",
       "      <th>2022</th>\n",
       "      <td>100000.0</td>\n",
       "      <td>115967.0</td>\n",
       "      <td>77478.5</td>\n",
       "    </tr>\n",
       "    <tr>\n",
       "      <th>2021</th>\n",
       "      <td>20000.0</td>\n",
       "      <td>79598.5</td>\n",
       "      <td>40047.5</td>\n",
       "    </tr>\n",
       "    <tr>\n",
       "      <th>2020</th>\n",
       "      <td>0.0</td>\n",
       "      <td>68428.0</td>\n",
       "      <td>21669.0</td>\n",
       "    </tr>\n",
       "  </tbody>\n",
       "</table>\n",
       "</div>"
      ],
      "text/plain": [
       "employment_type        FL        FT       PT\n",
       "work_year                                   \n",
       "2022             100000.0  115967.0  77478.5\n",
       "2021              20000.0   79598.5  40047.5\n",
       "2020                  0.0   68428.0  21669.0"
      ]
     },
     "execution_count": 17,
     "metadata": {},
     "output_type": "execute_result"
    }
   ],
   "source": [
    "df.pivot_table(\n",
    "    values='salary_in_usd',      \n",
    "    index='work_year',         \n",
    "    columns='employment_type',   \n",
    "    aggfunc='median'        \n",
    ").sort_index(ascending=False).round(2).fillna(0)\n"
   ]
  },
  {
   "cell_type": "markdown",
   "metadata": {
    "id": "yqJqvk5qniNr"
   },
   "source": [
    "Вывод: Из результата можно увидеть динамику изменения медианных зарплат."
   ]
  },
  {
   "cell_type": "markdown",
   "metadata": {
    "id": "tIkuqJKUniNs"
   },
   "source": [
    "---\n",
    "\n",
    "**Обратите внимание, что на защите вы должны ориентироваться в синтаксисе. При необходимости нужно быть готовым изменить код по просьбе преподавателя. Например, вместо среднего значения подсчитать медиану и т.д.**\n",
    "\n",
    "\n",
    " ---"
   ]
  },
  {
   "cell_type": "markdown",
   "metadata": {
    "id": "TpnXb6gip3S8"
   },
   "source": [
    "### Вывод"
   ]
  },
  {
   "cell_type": "markdown",
   "metadata": {
    "id": "nqLa096jM1Z8"
   },
   "source": [
    "В рамках практической работы освоены базовые навыки работы в среде Jupyter Notebook и форматирования документов с использованием Markdown. Проведено знакомство с функционалом библиотеки pandas для обработки и анализа структурированных данных в формате CSV. Практически изучены методы первичного анализа данных, группировки информации и построения сводных таблиц средствами языка Python."
   ]
  },
  {
   "cell_type": "markdown",
   "metadata": {
    "id": "Sn3y7og_vjGG"
   },
   "source": [
    "### Дополнительное задание"
   ]
  },
  {
   "cell_type": "markdown",
   "metadata": {
    "id": "rR6WgHXYvlqD"
   },
   "source": [
    "Задание 4: Создать столбец “Категория зарплаты в долларахˮ (с помощью категоризации). Выделить минимум 3 категории (низкая, высокая, средняя), фильтрацию для уровня зарплаты выбрать самостоятельно, аргументировать выбор. Создать сводную таблицу: средняя и медианная зп в долларах по категории зарплаты в долларах и среднему количество людей в компании."
   ]
  },
  {
   "cell_type": "code",
   "execution_count": 18,
   "metadata": {
    "id": "wG5TGQpevlBq"
   },
   "outputs": [
    {
     "name": "stdout",
     "output_type": "stream",
     "text": [
      "Категория зарплаты в долларах\n",
      "Высокая    159\n",
      "Средняя    119\n",
      "Низкая      66\n",
      "Name: count, dtype: int64\n"
     ]
    },
    {
     "name": "stderr",
     "output_type": "stream",
     "text": [
      "/var/folders/6b/mtrg9ql91mxfr0qrtq79_x3w0000gn/T/ipykernel_23351/2825520912.py:11: SettingWithCopyWarning: \n",
      "A value is trying to be set on a copy of a slice from a DataFrame.\n",
      "Try using .loc[row_indexer,col_indexer] = value instead\n",
      "\n",
      "See the caveats in the documentation: https://pandas.pydata.org/pandas-docs/stable/user_guide/indexing.html#returning-a-view-versus-a-copy\n",
      "  df['Категория зарплаты в долларах'] = df['salary_in_usd'].apply(categorize_salary)\n"
     ]
    },
    {
     "data": {
      "text/html": [
       "<div>\n",
       "<style scoped>\n",
       "    .dataframe tbody tr th:only-of-type {\n",
       "        vertical-align: middle;\n",
       "    }\n",
       "\n",
       "    .dataframe tbody tr th {\n",
       "        vertical-align: top;\n",
       "    }\n",
       "\n",
       "    .dataframe thead tr th {\n",
       "        text-align: left;\n",
       "    }\n",
       "\n",
       "    .dataframe thead tr:last-of-type th {\n",
       "        text-align: right;\n",
       "    }\n",
       "</style>\n",
       "<table border=\"1\" class=\"dataframe\">\n",
       "  <thead>\n",
       "    <tr>\n",
       "      <th></th>\n",
       "      <th colspan=\"3\" halign=\"left\">mean</th>\n",
       "      <th colspan=\"3\" halign=\"left\">median</th>\n",
       "      <th colspan=\"3\" halign=\"left\">count</th>\n",
       "    </tr>\n",
       "    <tr>\n",
       "      <th>company_size</th>\n",
       "      <th>L</th>\n",
       "      <th>M</th>\n",
       "      <th>S</th>\n",
       "      <th>L</th>\n",
       "      <th>M</th>\n",
       "      <th>S</th>\n",
       "      <th>L</th>\n",
       "      <th>M</th>\n",
       "      <th>S</th>\n",
       "    </tr>\n",
       "    <tr>\n",
       "      <th>Категория зарплаты в долларах</th>\n",
       "      <th></th>\n",
       "      <th></th>\n",
       "      <th></th>\n",
       "      <th></th>\n",
       "      <th></th>\n",
       "      <th></th>\n",
       "      <th></th>\n",
       "      <th></th>\n",
       "      <th></th>\n",
       "    </tr>\n",
       "  </thead>\n",
       "  <tbody>\n",
       "    <tr>\n",
       "      <th>Высокая</th>\n",
       "      <td>153475.534884</td>\n",
       "      <td>150623.017699</td>\n",
       "      <td>110000.000000</td>\n",
       "      <td>135000.0</td>\n",
       "      <td>140250.0</td>\n",
       "      <td>110000.0</td>\n",
       "      <td>43</td>\n",
       "      <td>113</td>\n",
       "      <td>3</td>\n",
       "    </tr>\n",
       "    <tr>\n",
       "      <th>Низкая</th>\n",
       "      <td>31176.545455</td>\n",
       "      <td>32957.185185</td>\n",
       "      <td>24206.294118</td>\n",
       "      <td>33602.5</td>\n",
       "      <td>38776.0</td>\n",
       "      <td>20000.0</td>\n",
       "      <td>22</td>\n",
       "      <td>27</td>\n",
       "      <td>17</td>\n",
       "    </tr>\n",
       "    <tr>\n",
       "      <th>Средняя</th>\n",
       "      <td>73002.400000</td>\n",
       "      <td>77800.089552</td>\n",
       "      <td>76533.000000</td>\n",
       "      <td>73000.0</td>\n",
       "      <td>78791.0</td>\n",
       "      <td>76958.0</td>\n",
       "      <td>35</td>\n",
       "      <td>67</td>\n",
       "      <td>17</td>\n",
       "    </tr>\n",
       "  </tbody>\n",
       "</table>\n",
       "</div>"
      ],
      "text/plain": [
       "                                        mean                                \\\n",
       "company_size                               L              M              S   \n",
       "Категория зарплаты в долларах                                                \n",
       "Высокая                        153475.534884  150623.017699  110000.000000   \n",
       "Низкая                          31176.545455   32957.185185   24206.294118   \n",
       "Средняя                         73002.400000   77800.089552   76533.000000   \n",
       "\n",
       "                                 median                     count           \n",
       "company_size                          L         M         S     L    M   S  \n",
       "Категория зарплаты в долларах                                               \n",
       "Высокая                        135000.0  140250.0  110000.0    43  113   3  \n",
       "Низкая                          33602.5   38776.0   20000.0    22   27  17  \n",
       "Средняя                         73000.0   78791.0   76958.0    35   67  17  "
      ]
     },
     "execution_count": 18,
     "metadata": {},
     "output_type": "execute_result"
    }
   ],
   "source": [
    "def categorize_salary(salary):\n",
    "    if pd.isna(salary):\n",
    "        return 'Не указана'\n",
    "    elif salary < 50000:\n",
    "        return 'Низкая'\n",
    "    elif 50000 <= salary <= 100000:\n",
    "        return 'Средняя'\n",
    "    else:\n",
    "        return 'Высокая'\n",
    "\n",
    "df['Категория зарплаты в долларах'] = df['salary_in_usd'].apply(categorize_salary)\n",
    "\n",
    "print(df['Категория зарплаты в долларах'].value_counts())\n",
    "\n",
    "df.pivot_table(\n",
    "    values='salary_in_usd',\n",
    "    index='Категория зарплаты в долларах',\n",
    "    columns='company_size', \n",
    "    aggfunc=['mean', 'median', 'count'], \n",
    ")\n"
   ]
  },
  {
   "cell_type": "markdown",
   "metadata": {
    "id": "y-qpTuhTvon3"
   },
   "source": [
    "Проведенный анализ позволил категоризировать зарплаты в IT-сфере на три основные группы: низкая (до 50,000$), средняя (50,000-100,000$) и высокая (свыше 100,000$). \n",
    "Медиана показывала типичную зарплату, исключая влияние экстремальных значений. Средняя отражазила общий уровень оплаты в категории. Количество наблюдений подтверждало надежность результатов - во всех группах достаточно данных для выводов.\n",
    "Результаты показали сбалансированное распределение по категориям с преобладанием среднего уровня оплаты, что характерно для зрелого рынка труда."
   ]
  },
  {
   "cell_type": "markdown",
   "metadata": {},
   "source": [
    "Задание 9: Отфильтровать набор данных. Выбрать только те должности, средняя зарплата в долларах на которых выше определенного числа (число выбрать самостоятельно). Для отфильтрованного набора данных выполнить группировку: тип работы и средняя+медианная зарплата в долларах."
   ]
  },
  {
   "cell_type": "code",
   "execution_count": 19,
   "metadata": {},
   "outputs": [
    {
     "name": "stdout",
     "output_type": "stream",
     "text": [
      "Должности со средней зарплатой выше 100000$:\n",
      "['Data Analytics Lead', 'Data Analytics Manager', 'Data Engineer', 'Data Scientist', 'Head of Data Science', 'Machine Learning Manager']\n"
     ]
    },
    {
     "data": {
      "text/html": [
       "<div>\n",
       "<style scoped>\n",
       "    .dataframe tbody tr th:only-of-type {\n",
       "        vertical-align: middle;\n",
       "    }\n",
       "\n",
       "    .dataframe tbody tr th {\n",
       "        vertical-align: top;\n",
       "    }\n",
       "\n",
       "    .dataframe thead th {\n",
       "        text-align: right;\n",
       "    }\n",
       "</style>\n",
       "<table border=\"1\" class=\"dataframe\">\n",
       "  <thead>\n",
       "    <tr style=\"text-align: right;\">\n",
       "      <th></th>\n",
       "      <th>Средняя зарплата</th>\n",
       "      <th>Медианная зарплата</th>\n",
       "      <th>Количество</th>\n",
       "    </tr>\n",
       "    <tr>\n",
       "      <th>employment_type</th>\n",
       "      <th></th>\n",
       "      <th></th>\n",
       "      <th></th>\n",
       "    </tr>\n",
       "  </thead>\n",
       "  <tbody>\n",
       "    <tr>\n",
       "      <th>FL</th>\n",
       "      <td>60000.00</td>\n",
       "      <td>60000.0</td>\n",
       "      <td>2</td>\n",
       "    </tr>\n",
       "    <tr>\n",
       "      <th>FT</th>\n",
       "      <td>108918.32</td>\n",
       "      <td>104702.0</td>\n",
       "      <td>249</td>\n",
       "    </tr>\n",
       "    <tr>\n",
       "      <th>PT</th>\n",
       "      <td>61591.75</td>\n",
       "      <td>62349.0</td>\n",
       "      <td>4</td>\n",
       "    </tr>\n",
       "  </tbody>\n",
       "</table>\n",
       "</div>"
      ],
      "text/plain": [
       "                 Средняя зарплата  Медианная зарплата  Количество\n",
       "employment_type                                                  \n",
       "FL                       60000.00             60000.0           2\n",
       "FT                      108918.32            104702.0         249\n",
       "PT                       61591.75             62349.0           4"
      ]
     },
     "execution_count": 19,
     "metadata": {},
     "output_type": "execute_result"
    }
   ],
   "source": [
    "salary_threshold = 100000\n",
    "\n",
    "high_paying_jobs = df.groupby('job_title')['salary_in_usd'].mean()\n",
    "high_paying_jobs = high_paying_jobs[high_paying_jobs > salary_threshold].index.tolist()\n",
    "\n",
    "print(f\"Должности со средней зарплатой выше {salary_threshold}$:\")\n",
    "print(high_paying_jobs)\n",
    "\n",
    "filtered_df = df[df['job_title'].isin(high_paying_jobs)]\n",
    "\n",
    "filtered_df.groupby('employment_type')['salary_in_usd'].agg([\n",
    "    ('Средняя зарплата', 'mean'),\n",
    "    ('Медианная зарплата', 'median'),\n",
    "    ('Количество', 'count')\n",
    "]).round(2)\n"
   ]
  },
  {
   "cell_type": "markdown",
   "metadata": {},
   "source": [
    "Проведенный анализ позволил идентифицировать высокооплачиваемые должности, превышающие установленный порог в 100,000$. \n",
    "Медианная зарплата демонстрировала типичный уровень оплаты для каждой категории занятости, исключая влияние аномальных значений, в то время как средняя зарплата отражала общий финансовый уровень по каждому типу работы. Количество наблюдений подтвердило репрезентативность данных для всех анализируемых категорий."
   ]
  },
  {
   "cell_type": "markdown",
   "metadata": {},
   "source": [
    "Задание 3: отфильтровать набор данных. Выбрать только топ 5 должностей по средней зп + год выплаты  2022 и 2021. Для отфильтрованного набора данных выполнить группировку: должность и средняя+медианная+минимальная+максимальная зарплата в долларах."
   ]
  },
  {
   "cell_type": "markdown",
   "metadata": {},
   "source": [
    "Код реализует анализ топ-5 высокооплачиваемых должностей за 2021-2022 годы:\n",
    "\n",
    "1. Фильтрация данных - выделение записей по годам\n",
    "2. Агрегация и ранжирование - расчет средних значений зарплат по группам с последующим выделением топ-5 позиций\n",
    "3. Вторичная фильтрация - создание подвыборки только для отобранных должностей\n",
    "4. Статистический анализ - расчет дескриптивных статистик (среднее, медиана, минимум, максимум) с оценкой объема выборки"
   ]
  },
  {
   "cell_type": "code",
   "execution_count": 22,
   "metadata": {},
   "outputs": [
    {
     "name": "stdout",
     "output_type": "stream",
     "text": [
      "Топ-5 должностей по средней зарплате в 2021-2022 годах:\n",
      "1. Data Analytics Lead\n",
      "2. Head of Data Science\n",
      "3. Data Analytics Manager\n",
      "4. Data Engineer\n",
      "5. Data Scientist\n"
     ]
    },
    {
     "data": {
      "text/html": [
       "<div>\n",
       "<style scoped>\n",
       "    .dataframe tbody tr th:only-of-type {\n",
       "        vertical-align: middle;\n",
       "    }\n",
       "\n",
       "    .dataframe tbody tr th {\n",
       "        vertical-align: top;\n",
       "    }\n",
       "\n",
       "    .dataframe thead th {\n",
       "        text-align: right;\n",
       "    }\n",
       "</style>\n",
       "<table border=\"1\" class=\"dataframe\">\n",
       "  <thead>\n",
       "    <tr style=\"text-align: right;\">\n",
       "      <th></th>\n",
       "      <th>Средняя зарплата</th>\n",
       "      <th>Медианная зарплата</th>\n",
       "      <th>Минимальная зарплата</th>\n",
       "      <th>Максимальная зарплата</th>\n",
       "      <th>Количество наблюдений</th>\n",
       "    </tr>\n",
       "    <tr>\n",
       "      <th>job_title</th>\n",
       "      <th></th>\n",
       "      <th></th>\n",
       "      <th></th>\n",
       "      <th></th>\n",
       "      <th></th>\n",
       "    </tr>\n",
       "  </thead>\n",
       "  <tbody>\n",
       "    <tr>\n",
       "      <th>Data Analytics Lead</th>\n",
       "      <td>405000.00</td>\n",
       "      <td>405000.0</td>\n",
       "      <td>405000</td>\n",
       "      <td>405000</td>\n",
       "      <td>1</td>\n",
       "    </tr>\n",
       "    <tr>\n",
       "      <th>Head of Data Science</th>\n",
       "      <td>146718.75</td>\n",
       "      <td>138937.5</td>\n",
       "      <td>85000</td>\n",
       "      <td>224000</td>\n",
       "      <td>4</td>\n",
       "    </tr>\n",
       "    <tr>\n",
       "      <th>Data Analytics Manager</th>\n",
       "      <td>127134.29</td>\n",
       "      <td>120000.0</td>\n",
       "      <td>105400</td>\n",
       "      <td>150260</td>\n",
       "      <td>7</td>\n",
       "    </tr>\n",
       "    <tr>\n",
       "      <th>Data Engineer</th>\n",
       "      <td>111552.44</td>\n",
       "      <td>101570.0</td>\n",
       "      <td>4000</td>\n",
       "      <td>324000</td>\n",
       "      <td>103</td>\n",
       "    </tr>\n",
       "    <tr>\n",
       "      <th>Data Scientist</th>\n",
       "      <td>104888.27</td>\n",
       "      <td>100000.0</td>\n",
       "      <td>2859</td>\n",
       "      <td>260000</td>\n",
       "      <td>107</td>\n",
       "    </tr>\n",
       "  </tbody>\n",
       "</table>\n",
       "</div>"
      ],
      "text/plain": [
       "                        Средняя зарплата  Медианная зарплата  \\\n",
       "job_title                                                      \n",
       "Data Analytics Lead            405000.00            405000.0   \n",
       "Head of Data Science           146718.75            138937.5   \n",
       "Data Analytics Manager         127134.29            120000.0   \n",
       "Data Engineer                  111552.44            101570.0   \n",
       "Data Scientist                 104888.27            100000.0   \n",
       "\n",
       "                        Минимальная зарплата  Максимальная зарплата  \\\n",
       "job_title                                                             \n",
       "Data Analytics Lead                   405000                 405000   \n",
       "Head of Data Science                   85000                 224000   \n",
       "Data Analytics Manager                105400                 150260   \n",
       "Data Engineer                           4000                 324000   \n",
       "Data Scientist                          2859                 260000   \n",
       "\n",
       "                        Количество наблюдений  \n",
       "job_title                                      \n",
       "Data Analytics Lead                         1  \n",
       "Head of Data Science                        4  \n",
       "Data Analytics Manager                      7  \n",
       "Data Engineer                             103  \n",
       "Data Scientist                            107  "
      ]
     },
     "execution_count": 22,
     "metadata": {},
     "output_type": "execute_result"
    }
   ],
   "source": [
    "df_filtered_year = df[df['work_year'].isin([2021, 2022])]\n",
    "\n",
    "top_5_jobs = df_filtered_year.groupby('job_title')['salary_in_usd'].mean().nlargest(5).index.tolist()\n",
    "\n",
    "print(\"Топ-5 должностей по средней зарплате в 2021-2022 годах:\")\n",
    "for i, job in enumerate(top_5_jobs, 1):\n",
    "    print(f\"{i}. {job}\")\n",
    "\n",
    "df_top_5 = df_filtered_year[df_filtered_year['job_title'].isin(top_5_jobs)]\n",
    "\n",
    "df_top_5.groupby('job_title')['salary_in_usd'].agg([\n",
    "    ('Средняя зарплата', 'mean'),\n",
    "    ('Медианная зарплата', 'median'),\n",
    "    ('Минимальная зарплата', 'min'),\n",
    "    ('Максимальная зарплата', 'max'),\n",
    "    ('Количество наблюдений', 'count')\n",
    "]).round(2).sort_values('Средняя зарплата', ascending=False)\n"
   ]
  },
  {
   "cell_type": "markdown",
   "metadata": {},
   "source": [
    "Данный анализ позволяет выявить и проанализировать наиболее высокооплачиваемые профессиональные позиции на рынке труда за последние два года. Расчет ключевых статистических показателей (средней, медианной, минимальной и максимальной зарплат) обеспечивает комплексную оценку уровня оплаты труда для каждой топовой должности."
   ]
  },
  {
   "cell_type": "markdown",
   "metadata": {},
   "source": [
    "Задание 20: Отфильтровать набор данных. Выбрать только топ 5 должностей по количеству записей в должности + топ 2 года выплаты по средней зп в этих годах 2 размера компании с наименьшим количеством записей. Для отфильтрованного набора данных создать сводную таблицу: должность и медианная зарплата в долларах по размеру компании."
   ]
  },
  {
   "cell_type": "markdown",
   "metadata": {},
   "source": [
    "Код реализует многоуровневый анализ данных о зарплатах через последовательную фильтрацию:\n",
    "1. Отбор наиболее представленных должностей - выделение топ-5 позиций по частоте встречаемости в dataset через value_counts()\n",
    "2. Фильтрация по временному периоду - определение топ-2 годов с максимальной средней зарплатой среди отобранных должностей\n",
    "3. Выбор целевой категории компаний - идентификация размера компании с наименьшим представительством в отфильтрованных данных\n",
    "4. Построение аналитической сводки - создание сводной таблицы с медианными значениями зарплат"
   ]
  },
  {
   "cell_type": "code",
   "execution_count": 25,
   "metadata": {},
   "outputs": [
    {
     "name": "stdout",
     "output_type": "stream",
     "text": [
      "Топ-5 должностей по количеству записей:\n",
      "1. Data Scientist\n",
      "2. Data Engineer\n",
      "3. Data Analyst\n",
      "4. Data Analytics Manager\n",
      "5. Data Analytics Engineer\n",
      "\n",
      "Топ-2 года по средней зарплате: [2022, 2020]\n",
      "\n",
      "Размер компании с наименьшим количеством записей: S\n"
     ]
    },
    {
     "data": {
      "text/html": [
       "<div>\n",
       "<style scoped>\n",
       "    .dataframe tbody tr th:only-of-type {\n",
       "        vertical-align: middle;\n",
       "    }\n",
       "\n",
       "    .dataframe tbody tr th {\n",
       "        vertical-align: top;\n",
       "    }\n",
       "\n",
       "    .dataframe thead th {\n",
       "        text-align: right;\n",
       "    }\n",
       "</style>\n",
       "<table border=\"1\" class=\"dataframe\">\n",
       "  <thead>\n",
       "    <tr style=\"text-align: right;\">\n",
       "      <th>company_size</th>\n",
       "      <th>S</th>\n",
       "    </tr>\n",
       "    <tr>\n",
       "      <th>job_title</th>\n",
       "      <th></th>\n",
       "    </tr>\n",
       "  </thead>\n",
       "  <tbody>\n",
       "    <tr>\n",
       "      <th>Data Analyst</th>\n",
       "      <td>15000.0</td>\n",
       "    </tr>\n",
       "    <tr>\n",
       "      <th>Data Engineer</th>\n",
       "      <td>41689.0</td>\n",
       "    </tr>\n",
       "    <tr>\n",
       "      <th>Data Scientist</th>\n",
       "      <td>51321.0</td>\n",
       "    </tr>\n",
       "  </tbody>\n",
       "</table>\n",
       "</div>"
      ],
      "text/plain": [
       "company_size          S\n",
       "job_title              \n",
       "Data Analyst    15000.0\n",
       "Data Engineer   41689.0\n",
       "Data Scientist  51321.0"
      ]
     },
     "execution_count": 25,
     "metadata": {},
     "output_type": "execute_result"
    }
   ],
   "source": [
    "top_5_jobs_by_count = df['job_title'].value_counts().nlargest(5).index.tolist()\n",
    "\n",
    "print(\"Топ-5 должностей по количеству записей:\")\n",
    "for i, job in enumerate(top_5_jobs_by_count, 1):\n",
    "    print(f\"{i}. {job}\")\n",
    "\n",
    "df_top_jobs = df[df['job_title'].isin(top_5_jobs_by_count)]\n",
    "\n",
    "top_2_years = df_top_jobs.groupby('work_year')['salary_in_usd'].mean().nlargest(2).index.tolist()\n",
    "\n",
    "print(f\"\\nТоп-2 года по средней зарплате: {top_2_years}\")\n",
    "\n",
    "df_top_years = df_top_jobs[df_top_jobs['work_year'].isin(top_2_years)]\n",
    "\n",
    "company_size_min_count = df_top_years['company_size'].value_counts().idxmin()\n",
    "\n",
    "df_final = df_top_years[df_top_years['company_size'] == company_size_min_count]\n",
    "\n",
    "df_final.pivot_table(\n",
    "    values='salary_in_usd',\n",
    "    index='job_title',\n",
    "    columns='company_size',\n",
    "    aggfunc='median',\n",
    "    fill_value=0\n",
    ").round(2)\n"
   ]
  },
  {
   "cell_type": "markdown",
   "metadata": {},
   "source": [
    "Проведенный анализ выявил структуру оплаты труда для наиболее распространенных должностей в наименее представленной категории компаний за периоды с наивысшим уровнем заработных плат.\n",
    "Медианные значения зарплат демонстрируют устойчивые рыночные тенденции, исключая влияние статистических выбросов. Полученные данные показывают реальный уровень оплаты для конкретного сегмента рынка труда - компаний определенного размера."
   ]
  },
  {
   "cell_type": "code",
   "execution_count": null,
   "metadata": {},
   "outputs": [],
   "source": []
  }
 ],
 "metadata": {
  "colab": {
   "provenance": []
  },
  "kernelspec": {
   "display_name": "Python 3 (ipykernel)",
   "language": "python",
   "name": "python3"
  },
  "language_info": {
   "codemirror_mode": {
    "name": "ipython",
    "version": 3
   },
   "file_extension": ".py",
   "mimetype": "text/x-python",
   "name": "python",
   "nbconvert_exporter": "python",
   "pygments_lexer": "ipython3",
   "version": "3.12.7"
  }
 },
 "nbformat": 4,
 "nbformat_minor": 4
}
